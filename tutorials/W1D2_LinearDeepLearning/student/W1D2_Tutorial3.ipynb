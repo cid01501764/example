{
  "cells": [
    {
      "cell_type": "markdown",
      "metadata": {
        "id": "view-in-github",
        "colab_type": "text"
      },
      "source": [
        "<a href=\"https://colab.research.google.com/github/cid01501764/example/blob/main/tutorials/W1D2_LinearDeepLearning/student/W1D2_Tutorial3.ipynb\" target=\"_parent\"><img src=\"https://colab.research.google.com/assets/colab-badge.svg\" alt=\"Open In Colab\"/></a>"
      ]
    },
    {
      "cell_type": "markdown",
      "metadata": {
        "execution": {},
        "id": "Uc51o4iH3M2h"
      },
      "source": [
        "# Tutorial 3: Deep linear neural networks\n",
        "**Week 1, Day 2: Linear Deep Learning**\n",
        "\n",
        "**By Neuromatch Academy**\n",
        "\n",
        "__Content creators:__ Saeed Salehi, Spiros Chavlis, Andrew Saxe\n",
        "\n",
        "__Content reviewers:__ Polina Turishcheva, Antoine De Comite\n",
        "\n",
        "__Content editors:__ Anoop Kulkarni\n",
        "\n",
        "__Production editors:__ Khalid Almubarak, Gagana B, Spiros Chavlis"
      ]
    },
    {
      "cell_type": "markdown",
      "metadata": {
        "execution": {},
        "id": "JxFJgB3_3M2i"
      },
      "source": [
        "---\n",
        "# Tutorial Objectives\n",
        "\n",
        "* Deep linear neural networks\n",
        "* Learning dynamics and singular value decomposition\n",
        "* Representational Similarity Analysis\n",
        "* Illusory correlations & ethics"
      ]
    },
    {
      "cell_type": "code",
      "execution_count": null,
      "metadata": {
        "cellView": "form",
        "execution": {},
        "id": "umGOZB3t3M2i"
      },
      "outputs": [],
      "source": [
        "# @title Tutorial slides\n",
        "from IPython.display import IFrame\n",
        "link_id = \"bncr8\"\n",
        "print(f\"If you want to download the slides: https://osf.io/download/{link_id}/\")\n",
        "IFrame(src=f\"https://mfr.ca-1.osf.io/render?url=https://osf.io/{link_id}/?direct%26mode=render%26action=download%26mode=render\", width=854, height=480)"
      ]
    },
    {
      "cell_type": "markdown",
      "metadata": {
        "execution": {},
        "id": "H691DBgG3M2j"
      },
      "source": [
        "---\n",
        "# Setup\n",
        "\n",
        "This a GPU-Free tutorial!"
      ]
    },
    {
      "cell_type": "code",
      "execution_count": null,
      "metadata": {
        "cellView": "form",
        "execution": {},
        "id": "rmpwLo1G3M2j"
      },
      "outputs": [],
      "source": [
        "# @title Install and import feedback gadget\n",
        "\n",
        "!pip3 install vibecheck datatops --quiet\n",
        "\n",
        "from vibecheck import DatatopsContentReviewContainer\n",
        "def content_review(notebook_section: str):\n",
        "    return DatatopsContentReviewContainer(\n",
        "        \"\",  # No text prompt\n",
        "        notebook_section,\n",
        "        {\n",
        "            \"url\": \"https://pmyvdlilci.execute-api.us-east-1.amazonaws.com/klab\",\n",
        "            \"name\": \"neuromatch_dl\",\n",
        "            \"user_key\": \"f379rz8y\",\n",
        "        },\n",
        "    ).render()\n",
        "\n",
        "\n",
        "feedback_prefix = \"W1D2_T3\""
      ]
    },
    {
      "cell_type": "code",
      "execution_count": 2,
      "metadata": {
        "execution": {},
        "id": "fEG2EfEJ3M2j"
      },
      "outputs": [],
      "source": [
        "# Imports\n",
        "import math\n",
        "import torch\n",
        "import matplotlib\n",
        "\n",
        "import numpy as np\n",
        "import matplotlib.pyplot as plt\n",
        "\n",
        "import torch.nn as nn\n",
        "import torch.optim as optim"
      ]
    },
    {
      "cell_type": "code",
      "execution_count": 3,
      "metadata": {
        "cellView": "form",
        "execution": {},
        "id": "7TskTGMm3M2j"
      },
      "outputs": [],
      "source": [
        "# @title Figure settings\n",
        "import logging\n",
        "logging.getLogger('matplotlib.font_manager').disabled = True\n",
        "\n",
        "from matplotlib import gridspec\n",
        "from ipywidgets import interact, IntSlider, FloatSlider, fixed\n",
        "from ipywidgets import FloatLogSlider, Layout, VBox\n",
        "from ipywidgets import interactive_output\n",
        "from mpl_toolkits.axes_grid1 import make_axes_locatable\n",
        "\n",
        "import warnings\n",
        "warnings.filterwarnings(\"ignore\")\n",
        "\n",
        "%config InlineBackend.figure_format = 'retina'\n",
        "plt.style.use(\"https://raw.githubusercontent.com/NeuromatchAcademy/content-creation/main/nma.mplstyle\")"
      ]
    },
    {
      "cell_type": "code",
      "execution_count": 4,
      "metadata": {
        "cellView": "form",
        "execution": {},
        "id": "FGGT8AV93M2j"
      },
      "outputs": [],
      "source": [
        "# @title Plotting functions\n",
        "\n",
        "def plot_x_y_hier_data(im1, im2, subplot_ratio=[1, 2]):\n",
        "  \"\"\"\n",
        "  Plot hierarchical data of labels vs features\n",
        "  for all samples\n",
        "\n",
        "  Args:\n",
        "    im1: np.ndarray\n",
        "      Input Dataset\n",
        "    im2: np.ndarray\n",
        "      Targets\n",
        "    subplot_ratio: list\n",
        "      Subplot ratios used to create subplots of varying sizes\n",
        "\n",
        "  Returns:\n",
        "    Nothing\n",
        "  \"\"\"\n",
        "  fig = plt.figure(figsize=(12, 5))\n",
        "  gs = gridspec.GridSpec(1, 2, width_ratios=subplot_ratio)\n",
        "  ax0 = plt.subplot(gs[0])\n",
        "  ax1 = plt.subplot(gs[1])\n",
        "  ax0.imshow(im1, cmap=\"cool\")\n",
        "  ax1.imshow(im2, cmap=\"cool\")\n",
        "  ax0.set_title(\"Labels of all samples\")\n",
        "  ax1.set_title(\"Features of all samples\")\n",
        "  ax0.set_axis_off()\n",
        "  ax1.set_axis_off()\n",
        "  plt.tight_layout()\n",
        "  plt.show()\n",
        "\n",
        "\n",
        "def plot_x_y_hier_one(im1, im2, subplot_ratio=[1, 2]):\n",
        "  \"\"\"\n",
        "  Plot hierarchical data of labels vs features\n",
        "  for a single sample\n",
        "\n",
        "  Args:\n",
        "    im1: np.ndarray\n",
        "      Input Dataset\n",
        "    im2: np.ndarray\n",
        "      Targets\n",
        "    subplot_ratio: list\n",
        "      Subplot ratios used to create subplots of varying sizes\n",
        "\n",
        "  Returns:\n",
        "    Nothing\n",
        "  \"\"\"\n",
        "  fig = plt.figure(figsize=(12, 1))\n",
        "  gs = gridspec.GridSpec(1, 2, width_ratios=subplot_ratio)\n",
        "  ax0 = plt.subplot(gs[0])\n",
        "  ax1 = plt.subplot(gs[1])\n",
        "  ax0.imshow(im1, cmap=\"cool\")\n",
        "  ax1.imshow(im2, cmap=\"cool\")\n",
        "  ax0.set_title(\"Labels of a single sample\")\n",
        "  ax1.set_title(\"Features of a single sample\")\n",
        "  ax0.set_axis_off()\n",
        "  ax1.set_axis_off()\n",
        "  plt.tight_layout()\n",
        "  plt.show()\n",
        "\n",
        "\n",
        "def plot_tree_data(label_list = None, feature_array = None, new_feature = None):\n",
        "  \"\"\"\n",
        "  Plot tree data\n",
        "\n",
        "  Args:\n",
        "    label_list: np.ndarray\n",
        "      List of labels [default: None]\n",
        "    feature_array: np.ndarray\n",
        "      List of features [default: None]\n",
        "    new_feature: string\n",
        "      Enables addition of new features\n",
        "\n",
        "  Returns:\n",
        "    Nothing\n",
        "  \"\"\"\n",
        "  cmap = matplotlib.colors.ListedColormap(['cyan', 'magenta'])\n",
        "  n_features = 10\n",
        "  n_labels = 8\n",
        "  im1 = np.eye(n_labels)\n",
        "  if feature_array is None:\n",
        "    im2 = np.array([[1, 1, 1, 1, 1, 1, 1, 1],\n",
        "                      [0, 0, 0, 0, 0, 0, 0, 0],\n",
        "                      [0, 0, 0, 0, 1, 1, 1, 1],\n",
        "                      [1, 1, 1, 1, 0, 0, 0, 0],\n",
        "                      [0, 0, 0, 0, 0, 0, 1, 1],\n",
        "                      [0, 0, 1, 1, 0, 0, 0, 0],\n",
        "                      [1, 1, 0, 0, 0, 0, 0, 0],\n",
        "                      [0, 0, 0, 0, 1, 1, 0, 0],\n",
        "                      [0, 1, 1, 1, 0, 0, 0, 0],\n",
        "                      [0, 0, 0, 0, 1, 1, 0, 1]]).T\n",
        "    im2[im2 == 0] = -1\n",
        "    feature_list = ['can_grow',\n",
        "                    'is_mammal',\n",
        "                    'has_leaves',\n",
        "                    'can_move',\n",
        "                    'has_trunk',\n",
        "                    'can_fly',\n",
        "                    'can_swim',\n",
        "                    'has_stem',\n",
        "                    'is_warmblooded',\n",
        "                    'can_flower']\n",
        "  else:\n",
        "    im2 = feature_array\n",
        "  if label_list is None:\n",
        "    label_list = ['Goldfish', 'Tuna', 'Robin', 'Canary',\n",
        "                  'Rose', 'Daisy', 'Pine', 'Oak']\n",
        "  fig = plt.figure(figsize=(12, 7))\n",
        "  gs = gridspec.GridSpec(1, 2, width_ratios=[1, 1.35])\n",
        "  ax1 = plt.subplot(gs[0])\n",
        "  ax2 = plt.subplot(gs[1])\n",
        "  ax1.imshow(im1, cmap=cmap)\n",
        "  if feature_array is None:\n",
        "    implt = ax2.imshow(im2, cmap=cmap, vmin=-1.0, vmax=1.0)\n",
        "  else:\n",
        "    implt = ax2.imshow(im2[:, -n_features:], cmap=cmap, vmin=-1.0, vmax=1.0)\n",
        "  divider = make_axes_locatable(ax2)\n",
        "  cax = divider.append_axes(\"right\", size=\"5%\", pad=0.1)\n",
        "  cbar = plt.colorbar(implt, cax=cax, ticks=[-0.5, 0.5])\n",
        "  cbar.ax.set_yticklabels(['no', 'yes'])\n",
        "  ax1.set_title(\"Labels\")\n",
        "  ax1.set_yticks(ticks=np.arange(n_labels))\n",
        "  ax1.set_yticklabels(labels=label_list)\n",
        "  ax1.set_xticks(ticks=np.arange(n_labels))\n",
        "  ax1.set_xticklabels(labels=label_list, rotation='vertical')\n",
        "  ax2.set_title(\"{} random Features\".format(n_features))\n",
        "  ax2.set_yticks(ticks=np.arange(n_labels))\n",
        "  ax2.set_yticklabels(labels=label_list)\n",
        "  if feature_array is None:\n",
        "    ax2.set_xticks(ticks=np.arange(n_features))\n",
        "    ax2.set_xticklabels(labels=feature_list, rotation='vertical')\n",
        "  else:\n",
        "    ax2.set_xticks(ticks=[n_features-1])\n",
        "    ax2.set_xticklabels(labels=[new_feature], rotation='vertical')\n",
        "  plt.tight_layout()\n",
        "  plt.show()\n",
        "\n",
        "\n",
        "def plot_loss(loss_array,\n",
        "              title=\"Training loss (Mean Squared Error)\",\n",
        "              c=\"r\"):\n",
        "  \"\"\"\n",
        "  Plot loss function\n",
        "\n",
        "  Args:\n",
        "    c: string\n",
        "      Specifies plot color\n",
        "    title: string\n",
        "      Specifies plot title\n",
        "    loss_array: np.ndarray\n",
        "      Log of MSE loss per epoch\n",
        "\n",
        "  Returns:\n",
        "    Nothing\n",
        "  \"\"\"\n",
        "  plt.figure(figsize=(10, 5))\n",
        "  plt.plot(loss_array, color=c)\n",
        "  plt.xlabel(\"Epoch\")\n",
        "  plt.ylabel(\"MSE\")\n",
        "  plt.title(title)\n",
        "  plt.show()\n",
        "\n",
        "\n",
        "def plot_loss_sv(loss_array, sv_array):\n",
        "  \"\"\"\n",
        "  Plot loss function\n",
        "\n",
        "  Args:\n",
        "    sv_array: np.ndarray\n",
        "      Log of singular values/modes across epochs\n",
        "    loss_array: np.ndarray\n",
        "      Log of MSE loss per epoch\n",
        "\n",
        "  Returns:\n",
        "    Nothing\n",
        "  \"\"\"\n",
        "  n_sing_values = sv_array.shape[1]\n",
        "  sv_array = sv_array / np.max(sv_array)\n",
        "  cmap = plt.cm.get_cmap(\"Set1\", n_sing_values)\n",
        "\n",
        "  _, (plot1, plot2) = plt.subplots(2, 1, sharex=True, figsize=(10, 10))\n",
        "  plot1.set_title(\"Training loss (Mean Squared Error)\")\n",
        "  plot1.plot(loss_array, color='r')\n",
        "\n",
        "  plot2.set_title(\"Evolution of singular values (modes)\")\n",
        "  for i in range(n_sing_values):\n",
        "    plot2.plot(sv_array[:, i], c=cmap(i))\n",
        "  plot2.set_xlabel(\"Epoch\")\n",
        "  plt.show()\n",
        "\n",
        "\n",
        "def plot_loss_sv_twin(loss_array, sv_array):\n",
        "  \"\"\"\n",
        "  Plot learning dynamics\n",
        "\n",
        "  Args:\n",
        "    sv_array: np.ndarray\n",
        "      Log of singular values/modes across epochs\n",
        "    loss_array: np.ndarray\n",
        "      Log of MSE loss per epoch\n",
        "\n",
        "  Returns:\n",
        "    Nothing\n",
        "  \"\"\"\n",
        "  n_sing_values = sv_array.shape[1]\n",
        "  sv_array = sv_array / np.max(sv_array)\n",
        "  cmap = plt.cm.get_cmap(\"winter\", n_sing_values)\n",
        "\n",
        "  fig = plt.figure(figsize=(10, 5))\n",
        "  ax1 = plt.gca()\n",
        "  ax1.set_title(\"Learning Dynamics\")\n",
        "  ax1.set_xlabel(\"Epoch\")\n",
        "  ax1.set_ylabel(\"Mean Squared Error\", c='r')\n",
        "  ax1.tick_params(axis='y', labelcolor='r')\n",
        "  ax1.plot(loss_array, color='r')\n",
        "\n",
        "  ax2 = ax1.twinx()\n",
        "  ax2.set_ylabel(\"Singular values (modes)\", c='b')\n",
        "  ax2.tick_params(axis='y', labelcolor='b')\n",
        "  for i in range(n_sing_values):\n",
        "    ax2.plot(sv_array[:, i], c=cmap(i))\n",
        "\n",
        "  fig.tight_layout()\n",
        "  plt.show()\n",
        "\n",
        "\n",
        "def plot_ills_sv_twin(ill_array, sv_array, ill_label):\n",
        "  \"\"\"\n",
        "  Plot network training evolution\n",
        "  and illusory correlations\n",
        "\n",
        "  Args:\n",
        "    sv_array: np.ndarray\n",
        "      Log of singular values/modes across epochs\n",
        "    ill_array: np.ndarray\n",
        "      Log of illusory correlations per epoch\n",
        "    ill_label: np.ndarray\n",
        "      Log of labels associated with illusory correlations\n",
        "\n",
        "  Returns:\n",
        "    Nothing\n",
        "  \"\"\"\n",
        "  n_sing_values = sv_array.shape[1]\n",
        "  sv_array = sv_array / np.max(sv_array)\n",
        "  cmap = plt.cm.get_cmap(\"winter\", n_sing_values)\n",
        "\n",
        "  fig = plt.figure(figsize=(10, 5))\n",
        "  ax1 = plt.gca()\n",
        "  ax1.set_title(\"Network training and the Illusory Correlations\")\n",
        "  ax1.set_xlabel(\"Epoch\")\n",
        "  ax1.set_ylabel(ill_label, c='r')\n",
        "  ax1.tick_params(axis='y', labelcolor='r')\n",
        "  ax1.plot(ill_array, color='r', linewidth=3)\n",
        "  ax1.set_ylim(-1.05, 1.05)\n",
        "\n",
        "  ax2 = ax1.twinx()\n",
        "  ax2.set_ylabel(\"Singular values (modes)\", c='b')\n",
        "  ax2.tick_params(axis='y', labelcolor='b')\n",
        "  for i in range(n_sing_values):\n",
        "    ax2.plot(sv_array[:, i], c=cmap(i))\n",
        "\n",
        "  fig.tight_layout()\n",
        "  plt.show()\n",
        "\n",
        "\n",
        "def plot_loss_sv_rsm(loss_array, sv_array, rsm_array, i_ep):\n",
        "  \"\"\"\n",
        "  Plot learning dynamics\n",
        "\n",
        "  Args:\n",
        "    sv_array: np.ndarray\n",
        "      Log of singular values/modes across epochs\n",
        "    loss_array: np.ndarray\n",
        "      Log of MSE loss per epoch\n",
        "    rsm_array: torch.tensor\n",
        "      Representation similarity matrix\n",
        "    i_ep: int\n",
        "      Which epoch to show\n",
        "\n",
        "  Returns:\n",
        "    Nothing\n",
        "  \"\"\"\n",
        "  n_ep = loss_array.shape[0]\n",
        "  rsm_array = rsm_array / np.max(rsm_array)\n",
        "  sv_array = sv_array / np.max(sv_array)\n",
        "\n",
        "  n_sing_values = sv_array.shape[1]\n",
        "  cmap = plt.cm.get_cmap(\"winter\", n_sing_values)\n",
        "\n",
        "  fig = plt.figure(figsize=(14, 5))\n",
        "  gs = gridspec.GridSpec(1, 2, width_ratios=[5, 3])\n",
        "\n",
        "  ax0 = plt.subplot(gs[1])\n",
        "  ax0.yaxis.tick_right()\n",
        "  implot = ax0.imshow(rsm_array[i_ep], cmap=\"Purples\", vmin=0.0, vmax=1.0)\n",
        "  divider = make_axes_locatable(ax0)\n",
        "  cax = divider.append_axes(\"right\", size=\"5%\", pad=0.9)\n",
        "  cbar = plt.colorbar(implot, cax=cax, ticks=[])\n",
        "  cbar.ax.set_ylabel('Similarity', fontsize=12)\n",
        "  ax0.set_title(\"RSM at epoch {}\".format(i_ep), fontsize=16)\n",
        "  ax0.set_yticks(ticks=np.arange(n_sing_values))\n",
        "  ax0.set_yticklabels(labels=item_names)\n",
        "  ax0.set_xticks(ticks=np.arange(n_sing_values))\n",
        "  ax0.set_xticklabels(labels=item_names, rotation='vertical')\n",
        "\n",
        "  ax1 = plt.subplot(gs[0])\n",
        "  ax1.set_title(\"Learning Dynamics\", fontsize=16)\n",
        "  ax1.set_xlabel(\"Epoch\")\n",
        "  ax1.set_ylabel(\"Mean Squared Error\", c='r')\n",
        "  ax1.tick_params(axis='y', labelcolor='r', direction=\"in\")\n",
        "  ax1.plot(np.arange(n_ep), loss_array, color='r')\n",
        "  ax1.axvspan(i_ep-2, i_ep+2, alpha=0.2, color='m')\n",
        "\n",
        "  ax2 = ax1.twinx()\n",
        "  ax2.set_ylabel(\"Singular values\", c='b')\n",
        "  ax2.tick_params(axis='y', labelcolor='b', direction=\"in\")\n",
        "  for i in range(n_sing_values):\n",
        "    ax2.plot(np.arange(n_ep), sv_array[:, i], c=cmap(i))\n",
        "  ax1.set_xlim(-1, n_ep+1)\n",
        "  ax2.set_xlim(-1, n_ep+1)\n",
        "\n",
        "  plt.show()"
      ]
    },
    {
      "cell_type": "code",
      "execution_count": 5,
      "metadata": {
        "cellView": "form",
        "execution": {},
        "id": "AKYxKjSi3M2j"
      },
      "outputs": [],
      "source": [
        "# @title Helper functions\n",
        "\n",
        "def build_tree(n_levels, n_branches, probability,\n",
        "               to_np_array=True):\n",
        "  \"\"\"\n",
        "  Builds tree\n",
        "\n",
        "  Args:\n",
        "    n_levels: int\n",
        "      Number of levels in tree\n",
        "    n_branches: int\n",
        "      Number of branches in tree\n",
        "    probability: float\n",
        "      Flipping probability\n",
        "    to_np_array: boolean\n",
        "      If true, represent tree as np.ndarray\n",
        "\n",
        "  Returns:\n",
        "    tree: dict if to_np_array=False\n",
        "          np.ndarray otherwise\n",
        "      Tree\n",
        "  \"\"\"\n",
        "  assert 0.0 <= probability <= 1.0\n",
        "\n",
        "  tree = {}\n",
        "\n",
        "  tree[\"level\"] = [0]\n",
        "  for i in range(1, n_levels+1):\n",
        "    tree[\"level\"].extend([i]*(n_branches**i))\n",
        "\n",
        "  tree[\"pflip\"] = [probability]*len(tree[\"level\"])\n",
        "\n",
        "  tree[\"parent\"] = [None]\n",
        "  k = len(tree[\"level\"])-1\n",
        "  for j in range(k//n_branches):\n",
        "    tree[\"parent\"].extend([j]*n_branches)\n",
        "\n",
        "  if to_np_array:\n",
        "    tree[\"level\"] = np.array(tree[\"level\"])\n",
        "    tree[\"pflip\"] = np.array(tree[\"pflip\"])\n",
        "    tree[\"parent\"] = np.array(tree[\"parent\"])\n",
        "\n",
        "  return tree\n",
        "\n",
        "\n",
        "def sample_from_tree(tree, n):\n",
        "  \"\"\"\n",
        "  Generates n samples from a tree\n",
        "\n",
        "  Args:\n",
        "    tree: np.ndarray/dictionary\n",
        "      Tree\n",
        "    n: int\n",
        "      Number of levels in tree\n",
        "\n",
        "  Returns:\n",
        "    x: np.ndarray\n",
        "      Sample from tree\n",
        "  \"\"\"\n",
        "  items = [i for i, v in enumerate(tree[\"level\"]) if v == max(tree[\"level\"])]\n",
        "  n_items = len(items)\n",
        "  x = np.zeros(shape=(n, n_items))\n",
        "  rand_temp = np.random.rand(n, len(tree[\"pflip\"]))\n",
        "  flip_temp = np.repeat(tree[\"pflip\"].reshape(1, -1), n, 0)\n",
        "  samp = (rand_temp > flip_temp) * 2 - 1\n",
        "\n",
        "  for i in range(n_items):\n",
        "    j = items[i]\n",
        "    prop = samp[:, j]\n",
        "    while tree[\"parent\"][j] is not None:\n",
        "      j = tree[\"parent\"][j]\n",
        "      prop = prop * samp[:, j]\n",
        "    x[:, i] = prop.T\n",
        "  return x\n",
        "\n",
        "\n",
        "def generate_hsd():\n",
        "  \"\"\"\n",
        "  Building the tree\n",
        "\n",
        "  Args:\n",
        "    None\n",
        "\n",
        "  Returns:\n",
        "    tree_labels: np.ndarray\n",
        "      Tree Labels\n",
        "    tree_features: np.ndarray\n",
        "      Sample from tree\n",
        "  \"\"\"\n",
        "  n_branches = 2  # 2 branches at each node\n",
        "  probability = .15  # flipping probability\n",
        "  n_levels = 3  # number of levels (depth of tree)\n",
        "  tree = build_tree(n_levels, n_branches, probability, to_np_array=True)\n",
        "  tree[\"pflip\"][0] = 0.5\n",
        "  n_samples = 10000 # Sample this many features\n",
        "\n",
        "  tree_labels = np.eye(n_branches**n_levels)\n",
        "  tree_features = sample_from_tree(tree, n_samples).T\n",
        "  return tree_labels, tree_features\n",
        "\n",
        "\n",
        "def linear_regression(X, Y):\n",
        "  \"\"\"\n",
        "  Analytical Linear regression\n",
        "\n",
        "  Args:\n",
        "    X: np.ndarray\n",
        "      Input features\n",
        "    Y: np.ndarray\n",
        "      Targets\n",
        "\n",
        "  Returns:\n",
        "    W: np.ndarray\n",
        "      Analytical solution\n",
        "      W = Y @ X.T @ np.linalg.inv(X @ X.T)\n",
        "  \"\"\"\n",
        "  assert isinstance(X, np.ndarray)\n",
        "  assert isinstance(Y, np.ndarray)\n",
        "  M, Dx = X.shape\n",
        "  N, Dy = Y.shape\n",
        "  assert Dx == Dy\n",
        "  W = Y @ X.T @ np.linalg.inv(X @ X.T)\n",
        "  return W\n",
        "\n",
        "\n",
        "def add_feature(existing_features, new_feature):\n",
        "  \"\"\"\n",
        "  Adding new features to existing tree\n",
        "\n",
        "  Args:\n",
        "    existing_features: np.ndarray\n",
        "      List of features already present in the tree\n",
        "    new_feature: list\n",
        "      List of new features to be added\n",
        "\n",
        "  Returns:\n",
        "    New features augmented with existing features\n",
        "  \"\"\"\n",
        "  assert isinstance(existing_features, np.ndarray)\n",
        "  assert isinstance(new_feature, list)\n",
        "  new_feature = np.array([new_feature]).T\n",
        "  return np.hstack((tree_features, new_feature))\n",
        "\n",
        "\n",
        "def net_svd(model, in_dim):\n",
        "  \"\"\"\n",
        "  Performs a Singular Value Decomposition on\n",
        "  given model weights\n",
        "\n",
        "  Args:\n",
        "    model: torch.nn.Module\n",
        "      Neural network model\n",
        "    in_dim: int\n",
        "      The input dimension of the model\n",
        "\n",
        "  Returns:\n",
        "    U: torch.tensor\n",
        "      Orthogonal Matrix\n",
        "    Σ: torch.tensor\n",
        "      Diagonal Matrix\n",
        "    V: torch.tensor\n",
        "      Orthogonal Matrix\n",
        "  \"\"\"\n",
        "  W_tot = torch.eye(in_dim)\n",
        "  for weight in model.parameters():\n",
        "    W_tot = weight.detach() @ W_tot\n",
        "  U, SIGMA, V = torch.svd(W_tot)\n",
        "  return U, SIGMA, V\n",
        "\n",
        "\n",
        "def net_rsm(h):\n",
        "  \"\"\"\n",
        "  Calculates the Representational Similarity Matrix\n",
        "\n",
        "  Args:\n",
        "    h: torch.Tensor\n",
        "      Activity of a hidden layer\n",
        "\n",
        "  Returns:\n",
        "    rsm: torch.Tensor\n",
        "      Representational Similarity Matrix\n",
        "  \"\"\"\n",
        "  rsm = h @ h.T\n",
        "  return rsm\n",
        "\n",
        "\n",
        "def initializer_(model, gamma=1e-12):\n",
        "  \"\"\"\n",
        "  In-place Re-initialization of weights\n",
        "\n",
        "  Args:\n",
        "    model: torch.nn.Module\n",
        "      PyTorch neural net model\n",
        "    gamma: float\n",
        "      Initialization scale\n",
        "\n",
        "  Returns:\n",
        "    Nothing\n",
        "  \"\"\"\n",
        "  for weight in model.parameters():\n",
        "    n_out, n_in = weight.shape\n",
        "    sigma = gamma / math.sqrt(n_in + n_out)\n",
        "    nn.init.normal_(weight, mean=0.0, std=sigma)\n",
        "\n",
        "\n",
        "def test_initializer_ex(seed):\n",
        "  \"\"\"\n",
        "  Testing initializer implementation\n",
        "\n",
        "  Args:\n",
        "    seed: int\n",
        "      Set for reproducibility\n",
        "\n",
        "  Returns:\n",
        "    Nothing\n",
        "  \"\"\"\n",
        "  torch.manual_seed(seed)\n",
        "  model = LNNet(5000, 5000, 1)\n",
        "  try:\n",
        "    ex_initializer_(model, gamma=1)\n",
        "    std = torch.std(next(iter(model.parameters())).detach()).item()\n",
        "    if -1e-5 <= (std - 0.01) <= 1e-5:\n",
        "      print(\"Well done! Seems to be correct!\")\n",
        "    else:\n",
        "      print(\"Please double check your implementation!\")\n",
        "  except:\n",
        "    print(\"Faulty Implementation!\")\n",
        "\n",
        "\n",
        "def test_net_svd_ex(seed):\n",
        "  \"\"\"\n",
        "  Tests net_svd_ex exercise\n",
        "\n",
        "  Args:\n",
        "    seed: int\n",
        "      Set for reproducibility\n",
        "\n",
        "  Returns:\n",
        "    Nothing\n",
        "  \"\"\"\n",
        "  torch.manual_seed(seed)\n",
        "  model = LNNet(8, 30, 100)\n",
        "  try:\n",
        "    U_ex, Σ_ex, V_ex = ex_net_svd(model, 8)\n",
        "    U, Σ, V = net_svd(model, 8)\n",
        "    if (torch.all(torch.isclose(U_ex.detach(), U.detach(), atol=1e-6)) and\n",
        "        torch.all(torch.isclose(Σ_ex.detach(), Σ.detach(), atol=1e-6)) and\n",
        "        torch.all(torch.isclose(V_ex.detach(), V.detach(), atol=1e-6))):\n",
        "      print(\"Well done! Seems to be correct!\")\n",
        "    else:\n",
        "      print(\"Please double check your implementation!\")\n",
        "  except:\n",
        "    print(\"Faulty Implementation!\")\n",
        "\n",
        "\n",
        "def test_net_rsm_ex(seed):\n",
        "  \"\"\"\n",
        "  Tests net_rsm_ex implementation\n",
        "\n",
        "  Args:\n",
        "    seed: int\n",
        "      Set for reproducibility\n",
        "\n",
        "  Returns:\n",
        "    Nothing\n",
        "  \"\"\"\n",
        "  torch.manual_seed(seed)\n",
        "  x = torch.rand(7, 17)\n",
        "  try:\n",
        "    y_ex = ex_net_rsm(x)\n",
        "    y = x @ x.T\n",
        "    if (torch.all(torch.isclose(y_ex, y, atol=1e-6))):\n",
        "      print(\"Well done! Seems to be correct!\")\n",
        "    else:\n",
        "      print(\"Please double check your implementation!\")\n",
        "  except:\n",
        "    print(\"Faulty Implementation!\")"
      ]
    },
    {
      "cell_type": "code",
      "execution_count": 6,
      "metadata": {
        "cellView": "form",
        "execution": {},
        "id": "shqdahLO3M2k"
      },
      "outputs": [],
      "source": [
        "#@title Set random seed\n",
        "\n",
        "#@markdown Executing `set_seed(seed=seed)` you are setting the seed\n",
        "\n",
        "# For DL its critical to set the random seed so that students can have a\n",
        "# baseline to compare their results to expected results.\n",
        "# Read more here: https://pytorch.org/docs/stable/notes/randomness.html\n",
        "\n",
        "# Call `set_seed` function in the exercises to ensure reproducibility.\n",
        "import random\n",
        "import torch\n",
        "\n",
        "def set_seed(seed=None, seed_torch=True):\n",
        "  \"\"\"\n",
        "  Function that controls randomness. NumPy and random modules must be imported.\n",
        "\n",
        "  Args:\n",
        "    seed : Integer\n",
        "      A non-negative integer that defines the random state. Default is `None`.\n",
        "    seed_torch : Boolean\n",
        "      If `True` sets the random seed for pytorch tensors, so pytorch module\n",
        "      must be imported. Default is `True`.\n",
        "\n",
        "  Returns:\n",
        "    Nothing.\n",
        "  \"\"\"\n",
        "  if seed is None:\n",
        "    seed = np.random.choice(2 ** 32)\n",
        "  random.seed(seed)\n",
        "  np.random.seed(seed)\n",
        "  if seed_torch:\n",
        "    torch.manual_seed(seed)\n",
        "    torch.cuda.manual_seed_all(seed)\n",
        "    torch.cuda.manual_seed(seed)\n",
        "    torch.backends.cudnn.benchmark = False\n",
        "    torch.backends.cudnn.deterministic = True\n",
        "\n",
        "  print(f'Random seed {seed} has been set.')\n",
        "\n",
        "\n",
        "# In case that `DataLoader` is used\n",
        "def seed_worker(worker_id):\n",
        "  \"\"\"\n",
        "  DataLoader will reseed workers following randomness in\n",
        "  multi-process data loading algorithm.\n",
        "\n",
        "  Args:\n",
        "    worker_id: integer\n",
        "      ID of subprocess to seed. 0 means that\n",
        "      the data will be loaded in the main process\n",
        "      Refer: https://pytorch.org/docs/stable/data.html#data-loading-randomness for more details\n",
        "\n",
        "  Returns:\n",
        "    Nothing\n",
        "  \"\"\"\n",
        "  worker_seed = torch.initial_seed() % 2**32\n",
        "  np.random.seed(worker_seed)\n",
        "  random.seed(worker_seed)"
      ]
    },
    {
      "cell_type": "code",
      "execution_count": 7,
      "metadata": {
        "cellView": "form",
        "execution": {},
        "id": "vLGzsd-d3M2k"
      },
      "outputs": [],
      "source": [
        "#@title Set device (GPU or CPU). Execute `set_device()`\n",
        "# especially if torch modules used.\n",
        "\n",
        "# Inform the user if the notebook uses GPU or CPU.\n",
        "\n",
        "def set_device():\n",
        "  \"\"\"\n",
        "  Set the device. CUDA if available, CPU otherwise\n",
        "\n",
        "  Args:\n",
        "    None\n",
        "\n",
        "  Returns:\n",
        "    Nothing\n",
        "  \"\"\"\n",
        "  device = \"cuda\" if torch.cuda.is_available() else \"cpu\"\n",
        "  if device != \"cuda\":\n",
        "    print(\"GPU is not enabled in this notebook. \\n\"\n",
        "          \"If you want to enable it, in the menu under `Runtime` -> \\n\"\n",
        "          \"`Hardware accelerator.` and select `GPU` from the dropdown menu\")\n",
        "  else:\n",
        "    print(\"GPU is enabled in this notebook. \\n\"\n",
        "          \"If you want to disable it, in the menu under `Runtime` -> \\n\"\n",
        "          \"`Hardware accelerator.` and select `None` from the dropdown menu\")\n",
        "\n",
        "  return device"
      ]
    },
    {
      "cell_type": "code",
      "execution_count": 8,
      "metadata": {
        "execution": {},
        "id": "KvPLC-8F3M2k",
        "outputId": "f24fa7a4-3957-4c14-fe2c-8948fdea7c8e",
        "colab": {
          "base_uri": "https://localhost:8080/"
        }
      },
      "outputs": [
        {
          "output_type": "stream",
          "name": "stdout",
          "text": [
            "Random seed 2021 has been set.\n",
            "GPU is not enabled in this notebook. \n",
            "If you want to enable it, in the menu under `Runtime` -> \n",
            "`Hardware accelerator.` and select `GPU` from the dropdown menu\n"
          ]
        }
      ],
      "source": [
        "SEED = 2021\n",
        "set_seed(seed=SEED)\n",
        "DEVICE = set_device()"
      ]
    },
    {
      "cell_type": "markdown",
      "metadata": {
        "execution": {},
        "id": "bw7IX9IX3M2k"
      },
      "source": [
        "This colab notebook is GPU free!"
      ]
    },
    {
      "cell_type": "markdown",
      "metadata": {
        "execution": {},
        "id": "BRDnNR_i3M2k"
      },
      "source": [
        "---\n",
        "# Section 0: Prelude\n",
        "*Time estimate: ~10 mins*\n",
        "\n"
      ]
    },
    {
      "cell_type": "markdown",
      "metadata": {
        "execution": {},
        "id": "HR7G5kbh3M2k"
      },
      "source": [
        "**A note on the exercises**: Most of the exercises are marked `Optional(Bonus)` and should only read through them if you are in a tight timeline. Therefore we would not rely on the implementation of the exercises. If necessary, you can look at the *Helper Functions* cell above to find the functions and classes used in this tutorial.\n",
        "\n",
        "Throughout this tutorial, we will use a linear neural net with a single hidden layer. We have also excluded `bias` from the layers. Please note that the forward loop returns the hidden activation, besides the network output (prediction). we will need it in section 3."
      ]
    },
    {
      "cell_type": "code",
      "execution_count": 9,
      "metadata": {
        "execution": {},
        "id": "WotH2_cV3M2k"
      },
      "outputs": [],
      "source": [
        "class LNNet(nn.Module):\n",
        "  \"\"\"\n",
        "  A Linear Neural Net with one hidden layer\n",
        "  \"\"\"\n",
        "\n",
        "  def __init__(self, in_dim, hid_dim, out_dim):\n",
        "    \"\"\"\n",
        "    Initialize LNNet parameters\n",
        "\n",
        "    Args:\n",
        "      in_dim: int\n",
        "        Input dimension\n",
        "      out_dim: int\n",
        "        Ouput dimension\n",
        "      hid_dim: int\n",
        "        Hidden dimension\n",
        "\n",
        "    Returns:\n",
        "      Nothing\n",
        "    \"\"\"\n",
        "    super().__init__()\n",
        "    self.in_hid = nn.Linear(in_dim, hid_dim, bias=False)\n",
        "    self.hid_out = nn.Linear(hid_dim, out_dim, bias=False)\n",
        "\n",
        "  def forward(self, x):\n",
        "    \"\"\"\n",
        "    Forward pass of LNNet\n",
        "\n",
        "    Args:\n",
        "      x: torch.Tensor\n",
        "        Input tensor\n",
        "\n",
        "    Returns:\n",
        "      hid: torch.Tensor\n",
        "        Hidden layer activity\n",
        "      out: torch.Tensor\n",
        "        Output/Prediction\n",
        "    \"\"\"\n",
        "    hid = self.in_hid(x)  # Hidden activity\n",
        "    out = self.hid_out(hid)  # Output (prediction)\n",
        "    return out, hid"
      ]
    },
    {
      "cell_type": "markdown",
      "metadata": {
        "execution": {},
        "id": "xUgEBk9W3M2k"
      },
      "source": [
        "Other than `net_svd` and `net_rsm` functions, the training loop should be mostly familiar to you. We will define these functions in the coming sections.\n",
        "\n",
        "**Important**: Please note that the two functions are part of inner training loop and are therefore executed and recorded at every iteration."
      ]
    },
    {
      "cell_type": "code",
      "execution_count": 10,
      "metadata": {
        "execution": {},
        "id": "LerNbOp13M2k"
      },
      "outputs": [],
      "source": [
        "def train(model, inputs, targets, n_epochs, lr, illusory_i=0):\n",
        "  \"\"\"\n",
        "  Training function\n",
        "\n",
        "  Args:\n",
        "    model: torch nn.Module\n",
        "      The neural network\n",
        "    inputs: torch.Tensor\n",
        "      Features (input) with shape `[batch_size, input_dim]`\n",
        "    targets: torch.Tensor\n",
        "      Targets (labels) with shape `[batch_size, output_dim]`\n",
        "    n_epochs: int\n",
        "      Number of training epochs (iterations)\n",
        "    lr: float\n",
        "      Learning rate\n",
        "    illusory_i: int\n",
        "      Index of illusory feature\n",
        "\n",
        "  Returns:\n",
        "    losses: np.ndarray\n",
        "      Record (evolution) of training loss\n",
        "    modes: np.ndarray\n",
        "      Record (evolution) of singular values (dynamic modes)\n",
        "    rs_mats: np.ndarray\n",
        "      Record (evolution) of representational similarity matrices\n",
        "    illusions: np.ndarray\n",
        "      Record of network prediction for the last feature\n",
        "  \"\"\"\n",
        "  in_dim = inputs.size(1)\n",
        "\n",
        "  losses = np.zeros(n_epochs)  # Loss records\n",
        "  modes = np.zeros((n_epochs, in_dim))  # Singular values (modes) records\n",
        "  rs_mats = []  # Representational similarity matrices\n",
        "  illusions = np.zeros(n_epochs)  # Prediction for the given feature\n",
        "\n",
        "  optimizer = optim.SGD(model.parameters(), lr=lr)\n",
        "  criterion = nn.MSELoss()\n",
        "\n",
        "  for i in range(n_epochs):\n",
        "    optimizer.zero_grad()\n",
        "    predictions, hiddens = model(inputs)\n",
        "    loss = criterion(predictions, targets)\n",
        "    loss.backward()\n",
        "    optimizer.step()\n",
        "\n",
        "    # Section 2 Singular value decomposition\n",
        "    U, Σ, V = net_svd(model, in_dim)\n",
        "\n",
        "    # Section 3 calculating representational similarity matrix\n",
        "    RSM = net_rsm(hiddens.detach())\n",
        "\n",
        "    # Section 4 network prediction of illusory_i inputs for the last feature\n",
        "    pred_ij = predictions.detach()[illusory_i, -1]\n",
        "\n",
        "    # Logging (recordings)\n",
        "    losses[i] = loss.item()\n",
        "    modes[i] = Σ.detach().numpy()\n",
        "    rs_mats.append(RSM.numpy())\n",
        "    illusions[i] = pred_ij.numpy()\n",
        "\n",
        "  return losses, modes, np.array(rs_mats), illusions"
      ]
    },
    {
      "cell_type": "markdown",
      "metadata": {
        "execution": {},
        "id": "3XClfMhv3M2k"
      },
      "source": [
        "We also need take over the initialization of the weights. In PyTorch, [`nn.init`](https://pytorch.org/docs/stable/nn.init.html) provides us with the functions to initialize tensors from a given distribution."
      ]
    },
    {
      "cell_type": "markdown",
      "metadata": {
        "execution": {},
        "id": "rL5nvydU3M2k"
      },
      "source": [
        "## Coding Exercise 0: Re-initialization (Optional)\n",
        "\n",
        "Complete the function `ex_initializer_`, such that the weights are sampled from the following distribution:\n",
        "\n",
        "\\begin{equation}\n",
        "\\mathcal{N}\\left(\\mu=0, ~~\\sigma=\\gamma \\sqrt{\\dfrac{1}{n_{in} + n_{out}}} \\right)\n",
        "\\end{equation}\n",
        "\n",
        "where $\\gamma$ is the initialization scale, $n_{in}$ and $n_{out}$ are respectively input and output dimensions of the layer. the Underscore (\"_\") in `ex_initializer_` and other functions, denotes \"[in-place](https://discuss.pytorch.org/t/what-is-in-place-operation/16244/2)\" operation.\n",
        "\n",
        "**important note**: Since we did not include bias in the layers, the `model.parameters()` would only return the weights in each layer."
      ]
    },
    {
      "cell_type": "code",
      "execution_count": 11,
      "metadata": {
        "execution": {},
        "id": "7KbKAysi3M2l",
        "outputId": "b31b0734-9965-4cd4-a8c3-658526461605",
        "colab": {
          "base_uri": "https://localhost:8080/"
        }
      },
      "outputs": [
        {
          "output_type": "stream",
          "name": "stdout",
          "text": [
            "Well done! Seems to be correct!\n"
          ]
        }
      ],
      "source": [
        "def ex_initializer_(model, gamma=1e-12):\n",
        "  \"\"\"\n",
        "  In-place Re-initialization of weights\n",
        "\n",
        "  Args:\n",
        "    model: torch.nn.Module\n",
        "      PyTorch neural net model\n",
        "    gamma: float\n",
        "      Initialization scale\n",
        "\n",
        "  Returns:\n",
        "    Nothing\n",
        "  \"\"\"\n",
        "  for weight in model.parameters():\n",
        "    n_out, n_in = weight.shape\n",
        "    #################################################\n",
        "    ## Define the standard deviation (sigma) for the normal distribution\n",
        "    # as given in the equation above\n",
        "    # Complete the function and remove or comment the line below\n",
        "    # raise NotImplementedError(\"Function `ex_initializer_`\")\n",
        "    #################################################\n",
        "    sigma = gamma * math.sqrt(1/(n_in + n_out))\n",
        "    nn.init.normal_(weight, mean=0.0, std=sigma)\n",
        "\n",
        "\n",
        "\n",
        "## uncomment and run\n",
        "test_initializer_ex(SEED)"
      ]
    },
    {
      "cell_type": "markdown",
      "metadata": {
        "execution": {},
        "id": "mDapzZ-W3M2l"
      },
      "source": [
        "[*Click for solution*](https://github.com/NeuromatchAcademy/course-content-dl/tree/main/tutorials/W1D2_LinearDeepLearning/solutions/W1D2_Tutorial3_Solution_8291e408.py)\n",
        "\n"
      ]
    },
    {
      "cell_type": "code",
      "execution_count": null,
      "metadata": {
        "cellView": "form",
        "execution": {},
        "id": "N3GWRcnX3M2l"
      },
      "outputs": [],
      "source": [
        "# @title Submit your feedback\n",
        "content_review(f\"{feedback_prefix}_Reinitialization_Exercise\")"
      ]
    },
    {
      "cell_type": "markdown",
      "metadata": {
        "execution": {},
        "id": "50rc1eKq3M2l"
      },
      "source": [
        "---\n",
        "# Section 1: Deep Linear Neural Nets\n",
        "\n",
        "*Time estimate: ~20 mins*"
      ]
    },
    {
      "cell_type": "code",
      "execution_count": 13,
      "metadata": {
        "cellView": "form",
        "execution": {},
        "id": "UDRl6jKV3M2l",
        "outputId": "9968828e-947b-465f-a503-7932b84038e5",
        "colab": {
          "base_uri": "https://localhost:8080/",
          "height": 581,
          "referenced_widgets": [
            "a369282be7284bb2a4141ef6a2bbe4e9",
            "874de37efa874c03b95c034952b5f6bf",
            "5f2abbab30864178b6ad928647a94597",
            "1bba597c9b56476d85d6c29c1d58c664",
            "862d0c2ae64449228252422505a20620",
            "de6f2e24855948809b72b91d362fa7a9"
          ]
        }
      },
      "outputs": [
        {
          "output_type": "display_data",
          "data": {
            "text/plain": [
              "Tab(children=(Output(), Output()), _titles={'0': 'Youtube', '1': 'Bilibili'})"
            ],
            "application/vnd.jupyter.widget-view+json": {
              "version_major": 2,
              "version_minor": 0,
              "model_id": "a369282be7284bb2a4141ef6a2bbe4e9"
            }
          },
          "metadata": {}
        }
      ],
      "source": [
        "# @title Video 1: Intro to Representation Learning\n",
        "from ipywidgets import widgets\n",
        "from IPython.display import YouTubeVideo\n",
        "from IPython.display import IFrame\n",
        "from IPython.display import display\n",
        "\n",
        "\n",
        "class PlayVideo(IFrame):\n",
        "  def __init__(self, id, source, page=1, width=400, height=300, **kwargs):\n",
        "    self.id = id\n",
        "    if source == 'Bilibili':\n",
        "      src = f'https://player.bilibili.com/player.html?bvid={id}&page={page}'\n",
        "    elif source == 'Osf':\n",
        "      src = f'https://mfr.ca-1.osf.io/render?url=https://osf.io/download/{id}/?direct%26mode=render'\n",
        "    super(PlayVideo, self).__init__(src, width, height, **kwargs)\n",
        "\n",
        "\n",
        "def display_videos(video_ids, W=400, H=300, fs=1):\n",
        "  tab_contents = []\n",
        "  for i, video_id in enumerate(video_ids):\n",
        "    out = widgets.Output()\n",
        "    with out:\n",
        "      if video_ids[i][0] == 'Youtube':\n",
        "        video = YouTubeVideo(id=video_ids[i][1], width=W,\n",
        "                             height=H, fs=fs, rel=0)\n",
        "        print(f'Video available at https://youtube.com/watch?v={video.id}')\n",
        "      else:\n",
        "        video = PlayVideo(id=video_ids[i][1], source=video_ids[i][0], width=W,\n",
        "                          height=H, fs=fs, autoplay=False)\n",
        "        if video_ids[i][0] == 'Bilibili':\n",
        "          print(f'Video available at https://www.bilibili.com/video/{video.id}')\n",
        "        elif video_ids[i][0] == 'Osf':\n",
        "          print(f'Video available at https://osf.io/{video.id}')\n",
        "      display(video)\n",
        "    tab_contents.append(out)\n",
        "  return tab_contents\n",
        "\n",
        "\n",
        "video_ids = [('Youtube', 'DqMSU4Bikt0'), ('Bilibili', 'BV1iM4y1T7eJ')]\n",
        "tab_contents = display_videos(video_ids, W=854, H=480)\n",
        "tabs = widgets.Tab()\n",
        "tabs.children = tab_contents\n",
        "for i in range(len(tab_contents)):\n",
        "  tabs.set_title(i, video_ids[i][0])\n",
        "display(tabs)"
      ]
    },
    {
      "cell_type": "code",
      "execution_count": null,
      "metadata": {
        "cellView": "form",
        "execution": {},
        "id": "kTODxLwg3M2l"
      },
      "outputs": [],
      "source": [
        "# @title Submit your feedback\n",
        "content_review(f\"{feedback_prefix}_Intro_to_Representation_Learning_Video\")"
      ]
    },
    {
      "cell_type": "markdown",
      "metadata": {
        "execution": {},
        "id": "XrJrvojJ3M2l"
      },
      "source": [
        "So far, depth just seems to slow down the learning. And we know that a single nonlinear hidden layer (given enough number of neurons and infinite training samples) has the potential to approximate any function. So it seems fair to ask: **What is depth good for**?\n",
        "\n",
        "One reason can be that shallow nonlinear neural networks hardly meet their true potential in practice. In the contrast, deep neural nets are often surprisingly powerful in learning complex functions without sacrificing generalization. A core intuition behind deep learning is that deep nets derive their power through learning internal representations. How does this work? To address representation learning, we have to go beyond the 1D chain.\n",
        "\n",
        "For this and the next couple of exercises, we use syntactically generated hierarchically structured data through a *branching diffusion process* (see [this reference](https://www.pnas.org/content/pnas/suppl/2019/05/16/1820226116.DCSupplemental/pnas.1820226116.sapp.pdf) for more details).\n",
        "\n",
        "<center><img src=\"https://raw.githubusercontent.com/NeuromatchAcademy/course-content-dl/main/tutorials/W1D2_LinearDeepLearning/static/tree.png\" alt=\"Simple nn graph\" width=\"600\"/></center>\n",
        "\n",
        "<center> hierarchically structured data (a tree) </center>\n",
        "\n",
        "The inputs to the network are labels (i.e. names), while the outputs are the features (i.e. attributes). For example, for the label \"Goldfish\", the network has to learn all the (artificially created) features, such as \"*can swim*\", \"*is cold-blooded*\", \"*has fins*\", and more. Given that we are training on hierarchically structured data, network could also learn the tree structure, that Goldfish and Tuna have rather similar features, and Robin has more in common with Tuna, compared to Rose."
      ]
    },
    {
      "cell_type": "code",
      "execution_count": 12,
      "metadata": {
        "cellView": "form",
        "execution": {},
        "id": "R0_S3hkb3M2l",
        "outputId": "69fa2682-51f7-4734-bd02-0031872e9b5e",
        "colab": {
          "base_uri": "https://localhost:8080/",
          "height": 682
        }
      },
      "outputs": [
        {
          "output_type": "display_data",
          "data": {
            "text/plain": [
              "<Figure size 1200x700 with 3 Axes>"
            ],
            "image/png": "[encoded data removed]"
          },
          "metadata": {
            "image/png": {
              "width": 1174,
              "height": 596
            }
          }
        },
        {
          "output_type": "stream",
          "name": "stdout",
          "text": [
            "---------------------------------------------------------------\n",
            "Input Dimension: 8\n",
            "Output Dimension: 10000\n",
            "Number of samples: 8\n"
          ]
        }
      ],
      "source": [
        "# @markdown #### Run to generate and visualize training samples from tree\n",
        "\n",
        "tree_labels, tree_features = generate_hsd()\n",
        "\n",
        "# Convert (cast) data from np.ndarray to torch.Tensor\n",
        "label_tensor = torch.tensor(tree_labels).float()\n",
        "feature_tensor = torch.tensor(tree_features).float()\n",
        "\n",
        "item_names = ['Goldfish', 'Tuna', 'Robin', 'Canary',\n",
        "              'Rose', 'Daisy', 'Pine', 'Oak']\n",
        "plot_tree_data()\n",
        "\n",
        "# Dimensions\n",
        "print(\"---------------------------------------------------------------\")\n",
        "print(\"Input Dimension: {}\".format(tree_labels.shape[1]))\n",
        "print(\"Output Dimension: {}\".format(tree_features.shape[1]))\n",
        "print(\"Number of samples: {}\".format(tree_features.shape[0]))"
      ]
    },
    {
      "cell_type": "markdown",
      "metadata": {
        "execution": {},
        "id": "8fUU9NL23M2l"
      },
      "source": [
        "To continue this tutorial, it is vital to understand the premise of our training data and what the task is. Therefore, please take your time to discuss them with your pod.\n",
        "\n",
        "<center><img src=\"https://raw.githubusercontent.com/NeuromatchAcademy/course-content-dl/main/tutorials/W1D2_LinearDeepLearning/static/neural_net.png\" alt=\"neural net\" width=\"600\"/></center>\n",
        "\n",
        "<center> The neural network used for this tutorial </center>"
      ]
    },
    {
      "cell_type": "markdown",
      "metadata": {
        "execution": {},
        "id": "rV62--5U3M2l"
      },
      "source": [
        "## Interactive Demo 1: Training the deep LNN\n",
        "\n",
        "Training a neural net on our data is straight forward. But before executing the next cell, remember the training loss curve from previous tutorial."
      ]
    },
    {
      "cell_type": "code",
      "execution_count": 13,
      "metadata": {
        "cellView": "form",
        "execution": {},
        "id": "ZW_yUkpo3M2l",
        "outputId": "46e12d03-6b7e-4835-b8c0-4f79bcc547ef",
        "colab": {
          "base_uri": "https://localhost:8080/",
          "height": 492
        }
      },
      "outputs": [
        {
          "output_type": "display_data",
          "data": {
            "text/plain": [
              "<Figure size 1000x500 with 1 Axes>"
            ],
            "image/png": "[encoded data removed]"
          },
          "metadata": {
            "image/png": {
              "width": 975,
              "height": 475
            }
          }
        }
      ],
      "source": [
        "# @markdown #### Make sure you execute this cell to train the network and plot\n",
        "\n",
        "lr = 100.0  # Learning rate\n",
        "gamma = 1e-12  # Initialization scale\n",
        "n_epochs = 250  # Number of epochs\n",
        "dim_input = 8  # Input dimension = `label_tensor.size(1)`\n",
        "dim_hidden = 30  # Hidden neurons\n",
        "dim_output = 10000  # Output dimension = `feature_tensor.size(1)`\n",
        "\n",
        "# Model instantiation\n",
        "dlnn_model = LNNet(dim_input, dim_hidden, dim_output)\n",
        "\n",
        "# Weights re-initialization\n",
        "initializer_(dlnn_model, gamma)\n",
        "\n",
        "# Training\n",
        "losses, *_ = train(dlnn_model,\n",
        "                  label_tensor,\n",
        "                  feature_tensor,\n",
        "                  n_epochs=n_epochs,\n",
        "                  lr=lr)\n",
        "\n",
        "# Plotting\n",
        "plot_loss(losses)"
      ]
    },
    {
      "cell_type": "markdown",
      "metadata": {
        "execution": {},
        "id": "DSSk-BeC3M2l"
      },
      "source": [
        "**Think!**\n",
        "\n",
        "Why haven't we seen these \"bumps\" in training before? And should we look for them in the future? What do these bumps mean?\n",
        "\n",
        "Recall from previous tutorial, that we are always interested in learning rate ($\\eta$) and initialization ($\\gamma$) that would give us the fastest but yet stable (reliable) convergence. Try finding the optimal $\\eta$ and $\\gamma$ using the following widgets. More specifically, try large $\\gamma$ and see if we can recover the bumps by tuning the $\\eta$."
      ]
    },
    {
      "cell_type": "code",
      "execution_count": 14,
      "metadata": {
        "cellView": "form",
        "execution": {},
        "id": "xR_irqYC3M2l",
        "outputId": "f66dc04f-1827-4a0b-b87d-ef42cf99b623",
        "colab": {
          "base_uri": "https://localhost:8080/",
          "height": 556,
          "referenced_widgets": [
            "a358059ea4c54f99972be4da33010afc",
            "94fe733df1cb431e81fd128dcd7bc77e",
            "bbffbd1e10e24dd188ecf22399d22755",
            "9409a5d649914d8986269bde607f37e8",
            "4b3679d25f3a40339fc48cc4c791c6df",
            "9893a33fb0704778b8016ca08c0790ac",
            "b8540d8a7a254f90b8409300ec6b0ea6",
            "d90afe62672443e4ad0aeda2dd2c44b2",
            "4bf101a002464cf2b9bf083733a0e188",
            "c69cf4ac25f4482d8dbf0dd7577dcefe"
          ]
        }
      },
      "outputs": [
        {
          "output_type": "display_data",
          "data": {
            "text/plain": [
              "interactive(children=(FloatSlider(value=100.0, continuous_update=False, description='eta', max=200.0, min=1.0,…"
            ],
            "application/vnd.jupyter.widget-view+json": {
              "version_major": 2,
              "version_minor": 0,
              "model_id": "a358059ea4c54f99972be4da33010afc"
            }
          },
          "metadata": {}
        }
      ],
      "source": [
        "# @markdown #### Make sure you execute this cell to enable the widget!\n",
        "\n",
        "def loss_lr_init(lr, gamma):\n",
        "  \"\"\"\n",
        "  Trains and plots the loss evolution\n",
        "\n",
        "  Args:\n",
        "    lr: float\n",
        "      Learning rate\n",
        "    gamma: float\n",
        "      Initialization scale\n",
        "\n",
        "  Returns:\n",
        "    Nothing\n",
        "  \"\"\"\n",
        "  n_epochs = 250  # Number of epochs\n",
        "  dim_input = 8  # Input dimension = `label_tensor.size(1)`\n",
        "  dim_hidden = 30  # Hidden neurons\n",
        "  dim_output = 10000  # Output dimension = `feature_tensor.size(1)`\n",
        "\n",
        "  # Model instantiation\n",
        "  dlnn_model = LNNet(dim_input, dim_hidden, dim_output)\n",
        "\n",
        "  # Weights re-initialization\n",
        "  initializer_(dlnn_model, gamma)\n",
        "\n",
        "  losses, *_ = train(dlnn_model,\n",
        "                    label_tensor,\n",
        "                    feature_tensor,\n",
        "                    n_epochs=n_epochs,\n",
        "                    lr=lr)\n",
        "\n",
        "  plot_loss(losses)\n",
        "\n",
        "_ = interact(loss_lr_init,\n",
        "             lr = FloatSlider(min=1.0, max=200.0,\n",
        "                              step=1.0, value=100.0,\n",
        "                              continuous_update=False,\n",
        "                              readout_format='.1f',\n",
        "                              description='eta'),\n",
        "             epochs = fixed(250),\n",
        "             gamma = FloatLogSlider(min=-15, max=1,\n",
        "                                    step=1, value=1e-12, base=10,\n",
        "                                    continuous_update=False,\n",
        "                                    description='gamma')\n",
        "             )"
      ]
    },
    {
      "cell_type": "code",
      "execution_count": null,
      "metadata": {
        "cellView": "form",
        "execution": {},
        "id": "KNU7-xq93M2l"
      },
      "outputs": [],
      "source": [
        "# @title Submit your feedback\n",
        "content_review(f\"{feedback_prefix}_Training_the_deep_LNN_Interactive_Demo\")"
      ]
    },
    {
      "cell_type": "markdown",
      "metadata": {
        "execution": {},
        "id": "RlXE3g6a3M2l"
      },
      "source": [
        "---\n",
        "# Section 2: Singular Value Decomposition (SVD)\n",
        "\n",
        "*Time estimate: ~20 mins*"
      ]
    },
    {
      "cell_type": "code",
      "execution_count": 15,
      "metadata": {
        "cellView": "form",
        "execution": {},
        "id": "laFw0iB93M2l",
        "outputId": "14f42070-bf6f-4603-c7b5-526a2882865b",
        "colab": {
          "base_uri": "https://localhost:8080/",
          "height": 581,
          "referenced_widgets": [
            "327e09743cab490bbed50e09bf358f51",
            "a9ad89701ad34e5297612dfc4e31c5e1",
            "b27fa26b1c6f40039270a214b72d64e1",
            "4ac4e1bea4fa4a83b0e1018bf7857200",
            "c7ab96c5fe804160b1837960b692e220",
            "c0fbf5f00e0f42ca96b132efcb41b4e0"
          ]
        }
      },
      "outputs": [
        {
          "output_type": "display_data",
          "data": {
            "text/plain": [
              "Tab(children=(Output(), Output()), _titles={'0': 'Youtube', '1': 'Bilibili'})"
            ],
            "application/vnd.jupyter.widget-view+json": {
              "version_major": 2,
              "version_minor": 0,
              "model_id": "327e09743cab490bbed50e09bf358f51"
            }
          },
          "metadata": {}
        }
      ],
      "source": [
        "# @title Video 2: SVD\n",
        "from ipywidgets import widgets\n",
        "from IPython.display import YouTubeVideo\n",
        "from IPython.display import IFrame\n",
        "from IPython.display import display\n",
        "\n",
        "\n",
        "class PlayVideo(IFrame):\n",
        "  def __init__(self, id, source, page=1, width=400, height=300, **kwargs):\n",
        "    self.id = id\n",
        "    if source == 'Bilibili':\n",
        "      src = f'https://player.bilibili.com/player.html?bvid={id}&page={page}'\n",
        "    elif source == 'Osf':\n",
        "      src = f'https://mfr.ca-1.osf.io/render?url=https://osf.io/download/{id}/?direct%26mode=render'\n",
        "    super(PlayVideo, self).__init__(src, width, height, **kwargs)\n",
        "\n",
        "\n",
        "def display_videos(video_ids, W=400, H=300, fs=1):\n",
        "  tab_contents = []\n",
        "  for i, video_id in enumerate(video_ids):\n",
        "    out = widgets.Output()\n",
        "    with out:\n",
        "      if video_ids[i][0] == 'Youtube':\n",
        "        video = YouTubeVideo(id=video_ids[i][1], width=W,\n",
        "                             height=H, fs=fs, rel=0)\n",
        "        print(f'Video available at https://youtube.com/watch?v={video.id}')\n",
        "      else:\n",
        "        video = PlayVideo(id=video_ids[i][1], source=video_ids[i][0], width=W,\n",
        "                          height=H, fs=fs, autoplay=False)\n",
        "        if video_ids[i][0] == 'Bilibili':\n",
        "          print(f'Video available at https://www.bilibili.com/video/{video.id}')\n",
        "        elif video_ids[i][0] == 'Osf':\n",
        "          print(f'Video available at https://osf.io/{video.id}')\n",
        "      display(video)\n",
        "    tab_contents.append(out)\n",
        "  return tab_contents\n",
        "\n",
        "\n",
        "video_ids = [('Youtube', '18oNWRziskM'), ('Bilibili', 'BV1bw411R7DJ')]\n",
        "tab_contents = display_videos(video_ids, W=854, H=480)\n",
        "tabs = widgets.Tab()\n",
        "tabs.children = tab_contents\n",
        "for i in range(len(tab_contents)):\n",
        "  tabs.set_title(i, video_ids[i][0])\n",
        "display(tabs)"
      ]
    },
    {
      "cell_type": "code",
      "execution_count": null,
      "metadata": {
        "cellView": "form",
        "execution": {},
        "id": "UDj4sdM33M2l"
      },
      "outputs": [],
      "source": [
        "# @title Submit your feedback\n",
        "content_review(f\"{feedback_prefix}_SVD_Video\")"
      ]
    },
    {
      "cell_type": "markdown",
      "metadata": {
        "execution": {},
        "id": "9PUJQDQd3M2l"
      },
      "source": [
        "In this section, we intend to study the learning (training) dynamics we just saw. First, we should know that a linear neural network is performing sequential matrix multiplications, which can be simplified to:\n",
        "\n",
        "\\begin{align}\n",
        "\\mathbf{y} &= \\mathbf{W}_{L}~\\mathbf{W}_{L-1}~\\dots~\\mathbf{W}_{1} ~ \\mathbf{x} \\\\\n",
        " &= \\left(\\prod_{i=1}^{L}{\\mathbf{W}_{i}}\\right) ~ \\mathbf{x} \\\\\n",
        " &= \\mathbf{W}_{tot} ~ \\mathbf{x}\n",
        "\\end{align}\n",
        "\n",
        "where $L$ denotes the number of layers in our network.\n",
        "\n",
        "[Saxe et al. (2013)](https://arxiv.org/abs/1312.6120) showed that to analyze and to understanding the nonlinear learning dynamics of a deep LNN, we can use [Singular Value Decomposition (SVD)](https://en.wikipedia.org/wiki/Singular_value_decomposition) to decompose the $\\mathbf{W}_{tot}$ into orthogonal vectors, where orthogonality of the vectors would ensure their \"individuality (independence)\". This means we can break a deep wide LNN into multiple deep narrow LNN, so their activity is untangled from each other.\n",
        "\n",
        "<br/>\n",
        "\n",
        "__A Quick intro to SVD__\n",
        "\n",
        "Any real-valued matix $A$ (yes, ANY) can be decomposed (factorized) to 3 matrices:\n",
        "\n",
        "\\begin{equation}\n",
        "\\mathbf{A} = \\mathbf{U} \\mathbf{Σ} \\mathbf{V}^{\\top}\n",
        "\\end{equation}\n",
        "\n",
        "where $U$ is an orthogonal matrix, $\\Sigma$ is a diagonal matrix, and $V$ is again an orthogonal matrix. The diagonal elements of $\\Sigma$ are called **singular values**.\n",
        "\n",
        "The main difference between SVD and EigenValue Decomposition (EVD), is that EVD requires $A$ to be squared and does not guarantee the eigenvectors to be orthogonal.\n",
        "\n",
        "We strongly recommend the [Singular Value Decomposition (the SVD)](https://www.youtube.com/watch?v=mBcLRGuAFUk) by the amazing [Gilbert Strang](http://www-math.mit.edu/~gs/), if you would like to learn more."
      ]
    },
    {
      "cell_type": "markdown",
      "metadata": {
        "execution": {},
        "id": "IxC6FLgq3M2l"
      },
      "source": [
        "## Coding Exercise 2: SVD (Optional)\n",
        "\n",
        "The goal is to perform the SVD on $\\mathbf{W}_{tot}$ in every epoch, and record the singular values (modes) during the training.\n",
        "\n",
        "Complete the function `ex_net_svd`, by first calculating the $\\mathbf{W}_{tot} = \\prod_{i=1}^{L}{\\mathbf{W}_{i}}$ and finally performing SVD on the $\\mathbf{W}_{tot}$. Please use the PyTorch [`torch.svd`](https://pytorch.org/docs/stable/generated/torch.svd.html) instead of NumPy [`np.linalg.svd`](https://numpy.org/doc/stable/reference/generated/numpy.linalg.svd.html)."
      ]
    },
    {
      "cell_type": "code",
      "execution_count": null,
      "metadata": {
        "execution": {},
        "id": "OqrtWnlI3M2s"
      },
      "outputs": [],
      "source": [
        "def ex_net_svd(model, in_dim):\n",
        "  \"\"\"\n",
        "  Performs a Singular Value Decomposition on a given model weights\n",
        "\n",
        "  Args:\n",
        "    model: torch.nn.Module\n",
        "      Neural network model\n",
        "    in_dim: int\n",
        "      The input dimension of the model\n",
        "\n",
        "  Returns:\n",
        "    U: torch.tensor\n",
        "      Orthogonal matrix\n",
        "    Σ: torch.tensor\n",
        "      Diagonal matrix\n",
        "    V: torch.tensor\n",
        "      Orthogonal matrix\n",
        "  \"\"\"\n",
        "  W_tot = torch.eye(in_dim)\n",
        "  for weight in model.parameters():\n",
        "    #################################################\n",
        "    ## Calculate the W_tot by multiplication of all weights\n",
        "    # and then perform SVD on the W_tot using pytorch's `torch.svd`\n",
        "    # Complete the function and remove or comment the line below\n",
        "    # raise NotImplementedError(\"Function `ex_net_svd`\")\n",
        "    #################################################\n",
        "    W_tot = W_tot @ weight\n",
        "  U, Σ, V = torch.svd(W_tot)\n",
        "  return U, Σ, V\n",
        "\n",
        "\n",
        "## Uncomment and run\n",
        "test_net_svd_ex(SEED)"
      ]
    },
    {
      "cell_type": "markdown",
      "metadata": {
        "execution": {},
        "id": "99G7nOnG3M2s"
      },
      "source": [
        "[*Click for solution*](https://github.com/NeuromatchAcademy/course-content-dl/tree/main/tutorials/W1D2_LinearDeepLearning/solutions/W1D2_Tutorial3_Solution_e65fa809.py)\n",
        "\n"
      ]
    },
    {
      "cell_type": "code",
      "execution_count": null,
      "metadata": {
        "cellView": "form",
        "execution": {},
        "id": "V5vEMMj_3M2s"
      },
      "outputs": [],
      "source": [
        "# @title Submit your feedback\n",
        "content_review(f\"{feedback_prefix}_SVD_Exercise\")"
      ]
    },
    {
      "cell_type": "code",
      "execution_count": null,
      "metadata": {
        "cellView": "form",
        "execution": {},
        "id": "4Dg3Bjkh3M2s"
      },
      "outputs": [],
      "source": [
        "# @markdown #### Make sure you execute this cell to train the network and plot\n",
        "\n",
        "lr = 100.0  # Learning rate\n",
        "gamma = 1e-12  # Initialization scale\n",
        "n_epochs = 250  # Number of epochs\n",
        "dim_input = 8  # Input dimension = `label_tensor.size(1)`\n",
        "dim_hidden = 30  # Hidden neurons\n",
        "dim_output = 10000  # Output dimension = `feature_tensor.size(1)`\n",
        "\n",
        "# Model instantiation\n",
        "dlnn_model = LNNet(dim_input, dim_hidden, dim_output)\n",
        "\n",
        "# Weights re-initialization\n",
        "initializer_(dlnn_model, gamma)\n",
        "\n",
        "# Training\n",
        "losses, modes, *_ = train(dlnn_model,\n",
        "                          label_tensor,\n",
        "                          feature_tensor,\n",
        "                          n_epochs=n_epochs,\n",
        "                          lr=lr)\n",
        "\n",
        "plot_loss_sv_twin(losses, modes)"
      ]
    },
    {
      "cell_type": "markdown",
      "metadata": {
        "execution": {},
        "id": "BWMdzQJ83M2s"
      },
      "source": [
        "**Think!**\n",
        "\n",
        "In EigenValue decomposition, the amount of variance explained by eigenvectors is proportional to the corresponding eigenvalues. What about the SVD? We see that the gradient descent guides the network to first learn the features that carry more information (have higher singular value)!"
      ]
    },
    {
      "cell_type": "code",
      "execution_count": null,
      "metadata": {
        "cellView": "form",
        "execution": {},
        "id": "2l6rqsV03M2s"
      },
      "outputs": [],
      "source": [
        "# @title Submit your feedback\n",
        "content_review(f\"{feedback_prefix}_SVD_Discussion\")"
      ]
    },
    {
      "cell_type": "code",
      "execution_count": null,
      "metadata": {
        "cellView": "form",
        "execution": {},
        "id": "VAZ7l9g83M2s"
      },
      "outputs": [],
      "source": [
        "# @title Video 3: SVD - Discussion\n",
        "from ipywidgets import widgets\n",
        "from IPython.display import YouTubeVideo\n",
        "from IPython.display import IFrame\n",
        "from IPython.display import display\n",
        "\n",
        "\n",
        "class PlayVideo(IFrame):\n",
        "  def __init__(self, id, source, page=1, width=400, height=300, **kwargs):\n",
        "    self.id = id\n",
        "    if source == 'Bilibili':\n",
        "      src = f'https://player.bilibili.com/player.html?bvid={id}&page={page}'\n",
        "    elif source == 'Osf':\n",
        "      src = f'https://mfr.ca-1.osf.io/render?url=https://osf.io/download/{id}/?direct%26mode=render'\n",
        "    super(PlayVideo, self).__init__(src, width, height, **kwargs)\n",
        "\n",
        "\n",
        "def display_videos(video_ids, W=400, H=300, fs=1):\n",
        "  tab_contents = []\n",
        "  for i, video_id in enumerate(video_ids):\n",
        "    out = widgets.Output()\n",
        "    with out:\n",
        "      if video_ids[i][0] == 'Youtube':\n",
        "        video = YouTubeVideo(id=video_ids[i][1], width=W,\n",
        "                             height=H, fs=fs, rel=0)\n",
        "        print(f'Video available at https://youtube.com/watch?v={video.id}')\n",
        "      else:\n",
        "        video = PlayVideo(id=video_ids[i][1], source=video_ids[i][0], width=W,\n",
        "                          height=H, fs=fs, autoplay=False)\n",
        "        if video_ids[i][0] == 'Bilibili':\n",
        "          print(f'Video available at https://www.bilibili.com/video/{video.id}')\n",
        "        elif video_ids[i][0] == 'Osf':\n",
        "          print(f'Video available at https://osf.io/{video.id}')\n",
        "      display(video)\n",
        "    tab_contents.append(out)\n",
        "  return tab_contents\n",
        "\n",
        "\n",
        "video_ids = [('Youtube', 'JEbRPPG2kUI'), ('Bilibili', 'BV1t54y1J7Tb')]\n",
        "tab_contents = display_videos(video_ids, W=854, H=480)\n",
        "tabs = widgets.Tab()\n",
        "tabs.children = tab_contents\n",
        "for i in range(len(tab_contents)):\n",
        "  tabs.set_title(i, video_ids[i][0])\n",
        "display(tabs)"
      ]
    },
    {
      "cell_type": "code",
      "execution_count": null,
      "metadata": {
        "cellView": "form",
        "execution": {},
        "id": "RFkYLxS93M2s"
      },
      "outputs": [],
      "source": [
        "# @title Submit your feedback\n",
        "content_review(f\"{feedback_prefix}_SVD_Discussion_Video\")"
      ]
    },
    {
      "cell_type": "markdown",
      "metadata": {
        "execution": {},
        "id": "h-Kog96V3M2s"
      },
      "source": [
        "---\n",
        "# Section 3: Representational Similarity Analysis (RSA)\n",
        "\n",
        "*Time estimate: ~20 mins*"
      ]
    },
    {
      "cell_type": "code",
      "execution_count": null,
      "metadata": {
        "cellView": "form",
        "execution": {},
        "id": "N2YvHcqe3M2s"
      },
      "outputs": [],
      "source": [
        "# @title Video 4: RSA\n",
        "from ipywidgets import widgets\n",
        "from IPython.display import YouTubeVideo\n",
        "from IPython.display import IFrame\n",
        "from IPython.display import display\n",
        "\n",
        "\n",
        "class PlayVideo(IFrame):\n",
        "  def __init__(self, id, source, page=1, width=400, height=300, **kwargs):\n",
        "    self.id = id\n",
        "    if source == 'Bilibili':\n",
        "      src = f'https://player.bilibili.com/player.html?bvid={id}&page={page}'\n",
        "    elif source == 'Osf':\n",
        "      src = f'https://mfr.ca-1.osf.io/render?url=https://osf.io/download/{id}/?direct%26mode=render'\n",
        "    super(PlayVideo, self).__init__(src, width, height, **kwargs)\n",
        "\n",
        "\n",
        "def display_videos(video_ids, W=400, H=300, fs=1):\n",
        "  tab_contents = []\n",
        "  for i, video_id in enumerate(video_ids):\n",
        "    out = widgets.Output()\n",
        "    with out:\n",
        "      if video_ids[i][0] == 'Youtube':\n",
        "        video = YouTubeVideo(id=video_ids[i][1], width=W,\n",
        "                             height=H, fs=fs, rel=0)\n",
        "        print(f'Video available at https://youtube.com/watch?v={video.id}')\n",
        "      else:\n",
        "        video = PlayVideo(id=video_ids[i][1], source=video_ids[i][0], width=W,\n",
        "                          height=H, fs=fs, autoplay=False)\n",
        "        if video_ids[i][0] == 'Bilibili':\n",
        "          print(f'Video available at https://www.bilibili.com/video/{video.id}')\n",
        "        elif video_ids[i][0] == 'Osf':\n",
        "          print(f'Video available at https://osf.io/{video.id}')\n",
        "      display(video)\n",
        "    tab_contents.append(out)\n",
        "  return tab_contents\n",
        "\n",
        "\n",
        "video_ids = [('Youtube', 'YOs1yffysX8'), ('Bilibili', 'BV19f4y157zD')]\n",
        "tab_contents = display_videos(video_ids, W=854, H=480)\n",
        "tabs = widgets.Tab()\n",
        "tabs.children = tab_contents\n",
        "for i in range(len(tab_contents)):\n",
        "  tabs.set_title(i, video_ids[i][0])\n",
        "display(tabs)"
      ]
    },
    {
      "cell_type": "code",
      "execution_count": null,
      "metadata": {
        "cellView": "form",
        "execution": {},
        "id": "3e73dCCe3M2s"
      },
      "outputs": [],
      "source": [
        "# @title Submit your feedback\n",
        "content_review(f\"{feedback_prefix}_RSA_Video\")"
      ]
    },
    {
      "cell_type": "markdown",
      "metadata": {
        "execution": {},
        "id": "u-btslpV3M2s"
      },
      "source": [
        "The previous section ended with an interesting remark. SVD helped to break our deep \"wide\" linear neural net into 8 deep \"narrow\" linear neural nets.\n",
        "\n",
        "The first narrow net (highest singular value) converges fastest, while the last four narrow nets, converge almost simultaneously and have the smallest singular values. Can it be that the narrow net with larger mode is learning the difference between \"living things\" and \"objects\", while another narrow net with smaller mode is learning the difference between Fish and Birds? how could we check this hypothesis?\n",
        "\n",
        "Representational Similarity Analysis (RSA) is an approach that could help us understand the internal representation of our network. The main idea is that the activity of hidden units (neurons) in the network must be similar when the network is presented with similar input. For our dataset (hierarchically structured data), we expect the activity of neurons in the hidden layer to be more similar for Tuna and Canary, and less similar for Tuna and Oak.\n",
        "\n",
        "For similarity measure, we can use the good old dot (scalar) product, which is also called cosine similarity. For calculating the dot product between multiple vectors (which would be our case), we can simply use matrix multiplication. Therefore the Representational Similarity Matrix for multiple-input (batch) activity could be calculated as follow:\n",
        "\n",
        "\\begin{equation}\n",
        "RSM = \\mathbf{H} \\mathbf{H}^{\\top}\n",
        "\\end{equation}\n",
        "\n",
        "where $\\mathbf{H} = \\mathbf{X} \\mathbf{W_1}$ is the activity of hidden neurons for a given batch $\\mathbf{X}$."
      ]
    },
    {
      "cell_type": "markdown",
      "metadata": {
        "execution": {},
        "id": "BJcVkmyc3M2s"
      },
      "source": [
        "## Coding Exercise 3: RSA (Optional)\n",
        "\n",
        "The task is simple. We would need to measure the similarity between hidden layer activities $~\\mathbf{h} =  \\mathbf{x} ~\\mathbf{W_1}$) for every input $\\mathbf{x}$.\n",
        "\n",
        "If we perform RSA in every iteration, we could also see the evolution of representation learning."
      ]
    },
    {
      "cell_type": "code",
      "execution_count": null,
      "metadata": {
        "execution": {},
        "id": "ff6pWGy83M2s"
      },
      "outputs": [],
      "source": [
        "def ex_net_rsm(h):\n",
        "  \"\"\"\n",
        "  Calculates the Representational Similarity Matrix\n",
        "\n",
        "  Arg:\n",
        "    h: torch.Tensor\n",
        "      Activity of a hidden layer\n",
        "\n",
        "  Returns:\n",
        "    rsm: torch.Tensor\n",
        "      Representational Similarity Matrix\n",
        "  \"\"\"\n",
        "  #################################################\n",
        "  ## Calculate the Representational Similarity Matrix\n",
        "  # Complete the function and remove or comment the line below\n",
        "  raise NotImplementedError(\"Function `ex_net_rsm`\")\n",
        "  #################################################\n",
        "  rsm = ...\n",
        "  return rsm\n",
        "\n",
        "\n",
        "## Uncomment and run\n",
        "# test_net_rsm_ex(SEED)"
      ]
    },
    {
      "cell_type": "markdown",
      "metadata": {
        "execution": {},
        "id": "hNpi9AJ03M2s"
      },
      "source": [
        "[*Click for solution*](https://github.com/NeuromatchAcademy/course-content-dl/tree/main/tutorials/W1D2_LinearDeepLearning/solutions/W1D2_Tutorial3_Solution_322ede5f.py)\n",
        "\n"
      ]
    },
    {
      "cell_type": "markdown",
      "metadata": {
        "execution": {},
        "id": "MLk7-AOy3M2s"
      },
      "source": [
        "Now we can train the model while recording the losses, modes, and RSMs at every iteration. First, use the epoch slider to explore the evolution of RSM without changing default lr ($\\eta$) and initialization ($\\gamma$). Then, as we did before, set $\\eta$ and $\\gamma$ to larger values to see whether you can retrieve the sequential structured learning of representations."
      ]
    },
    {
      "cell_type": "code",
      "execution_count": null,
      "metadata": {
        "cellView": "form",
        "execution": {},
        "id": "BTRdeOy63M2s"
      },
      "outputs": [],
      "source": [
        "#@markdown #### Make sure you execute this cell to enable widgets\n",
        "\n",
        "def loss_svd_rsm_lr_gamma(lr, gamma, i_ep):\n",
        "  \"\"\"\n",
        "  Widget to record loss/mode/RSM at every iteration\n",
        "\n",
        "  Args:\n",
        "    lr: float\n",
        "      Learning rate\n",
        "    gamma: float\n",
        "      Initialization scale\n",
        "    i_ep: int\n",
        "      Which epoch to show\n",
        "\n",
        "  Returns:\n",
        "    Nothing\n",
        "  \"\"\"\n",
        "  n_epochs = 250  # Number of epochs\n",
        "  dim_input = 8  # Input dimension = `label_tensor.size(1)`\n",
        "  dim_hidden = 30  # Hidden neurons\n",
        "  dim_output = 10000  # Output dimension = `feature_tensor.size(1)`\n",
        "\n",
        "  # Model instantiation\n",
        "  dlnn_model = LNNet(dim_input, dim_hidden, dim_output)\n",
        "\n",
        "  # Weights re-initialization\n",
        "  initializer_(dlnn_model, gamma)\n",
        "\n",
        "  # Training\n",
        "  losses, modes, rsms, _ = train(dlnn_model,\n",
        "                                 label_tensor,\n",
        "                                 feature_tensor,\n",
        "                                 n_epochs=n_epochs,\n",
        "                                 lr=lr)\n",
        "  plot_loss_sv_rsm(losses, modes, rsms, i_ep)\n",
        "\n",
        "i_ep_slider = IntSlider(min=10, max=241, step=1, value=61,\n",
        "                        continuous_update=False,\n",
        "                        description='Epoch',\n",
        "                        layout=Layout(width='630px'))\n",
        "\n",
        "lr_slider = FloatSlider(min=20.0, max=200.0, step=1.0, value=100.0,\n",
        "                        continuous_update=False,\n",
        "                        readout_format='.1f',\n",
        "                        description='eta')\n",
        "\n",
        "gamma_slider = FloatLogSlider(min=-15, max=1, step=1,\n",
        "                              value=1e-12, base=10,\n",
        "                              continuous_update=False,\n",
        "                              description='gamma')\n",
        "\n",
        "widgets_ui = VBox([lr_slider, gamma_slider, i_ep_slider])\n",
        "\n",
        "widgets_out = interactive_output(loss_svd_rsm_lr_gamma,\n",
        "                                 {'lr': lr_slider,\n",
        "                                  'gamma': gamma_slider,\n",
        "                                  'i_ep': i_ep_slider})\n",
        "\n",
        "display(widgets_ui, widgets_out)"
      ]
    },
    {
      "cell_type": "markdown",
      "metadata": {
        "execution": {},
        "id": "Pr1ayJGw3M2s"
      },
      "source": [
        "Let's take a moment to analyze this more. A deep neural net is learning the representations, rather than a naive mapping (look-up table). This is thought to be the reason for deep neural nets supreme generalization and transfer learning ability. Unsurprisingly, neural nets with no hidden layer are incapable of representation learning, even with extremely small initialization."
      ]
    },
    {
      "cell_type": "code",
      "execution_count": null,
      "metadata": {
        "cellView": "form",
        "execution": {},
        "id": "tG8wAuWt3M2s"
      },
      "outputs": [],
      "source": [
        "# @title Submit your feedback\n",
        "content_review(f\"{feedback_prefix}_RSA_Exercise\")"
      ]
    },
    {
      "cell_type": "code",
      "execution_count": null,
      "metadata": {
        "cellView": "form",
        "execution": {},
        "id": "roRLKg513M2s"
      },
      "outputs": [],
      "source": [
        "# @title Video 5: RSA - Discussion\n",
        "from ipywidgets import widgets\n",
        "from IPython.display import YouTubeVideo\n",
        "from IPython.display import IFrame\n",
        "from IPython.display import display\n",
        "\n",
        "\n",
        "class PlayVideo(IFrame):\n",
        "  def __init__(self, id, source, page=1, width=400, height=300, **kwargs):\n",
        "    self.id = id\n",
        "    if source == 'Bilibili':\n",
        "      src = f'https://player.bilibili.com/player.html?bvid={id}&page={page}'\n",
        "    elif source == 'Osf':\n",
        "      src = f'https://mfr.ca-1.osf.io/render?url=https://osf.io/download/{id}/?direct%26mode=render'\n",
        "    super(PlayVideo, self).__init__(src, width, height, **kwargs)\n",
        "\n",
        "\n",
        "def display_videos(video_ids, W=400, H=300, fs=1):\n",
        "  tab_contents = []\n",
        "  for i, video_id in enumerate(video_ids):\n",
        "    out = widgets.Output()\n",
        "    with out:\n",
        "      if video_ids[i][0] == 'Youtube':\n",
        "        video = YouTubeVideo(id=video_ids[i][1], width=W,\n",
        "                             height=H, fs=fs, rel=0)\n",
        "        print(f'Video available at https://youtube.com/watch?v={video.id}')\n",
        "      else:\n",
        "        video = PlayVideo(id=video_ids[i][1], source=video_ids[i][0], width=W,\n",
        "                          height=H, fs=fs, autoplay=False)\n",
        "        if video_ids[i][0] == 'Bilibili':\n",
        "          print(f'Video available at https://www.bilibili.com/video/{video.id}')\n",
        "        elif video_ids[i][0] == 'Osf':\n",
        "          print(f'Video available at https://osf.io/{video.id}')\n",
        "      display(video)\n",
        "    tab_contents.append(out)\n",
        "  return tab_contents\n",
        "\n",
        "\n",
        "video_ids = [('Youtube', 'vprldATyq1o'), ('Bilibili', 'BV18y4y1j7Xr')]\n",
        "tab_contents = display_videos(video_ids, W=854, H=480)\n",
        "tabs = widgets.Tab()\n",
        "tabs.children = tab_contents\n",
        "for i in range(len(tab_contents)):\n",
        "  tabs.set_title(i, video_ids[i][0])\n",
        "display(tabs)"
      ]
    },
    {
      "cell_type": "code",
      "execution_count": null,
      "metadata": {
        "cellView": "form",
        "execution": {},
        "id": "X87jo0Tn3M2s"
      },
      "outputs": [],
      "source": [
        "# @title Submit your feedback\n",
        "content_review(f\"{feedback_prefix}_RSA_Discussion_Video\")"
      ]
    },
    {
      "cell_type": "markdown",
      "metadata": {
        "execution": {},
        "id": "oSXjItyP3M2s"
      },
      "source": [
        "---\n",
        "# Section 4: Illusory Correlations\n",
        "\n",
        "*Time estimate: ~20-30 mins*"
      ]
    },
    {
      "cell_type": "code",
      "execution_count": null,
      "metadata": {
        "cellView": "form",
        "execution": {},
        "id": "kaIxDa9R3M2t"
      },
      "outputs": [],
      "source": [
        "# @title Video 6: Illusory Correlations\n",
        "from ipywidgets import widgets\n",
        "from IPython.display import YouTubeVideo\n",
        "from IPython.display import IFrame\n",
        "from IPython.display import display\n",
        "\n",
        "\n",
        "class PlayVideo(IFrame):\n",
        "  def __init__(self, id, source, page=1, width=400, height=300, **kwargs):\n",
        "    self.id = id\n",
        "    if source == 'Bilibili':\n",
        "      src = f'https://player.bilibili.com/player.html?bvid={id}&page={page}'\n",
        "    elif source == 'Osf':\n",
        "      src = f'https://mfr.ca-1.osf.io/render?url=https://osf.io/download/{id}/?direct%26mode=render'\n",
        "    super(PlayVideo, self).__init__(src, width, height, **kwargs)\n",
        "\n",
        "\n",
        "def display_videos(video_ids, W=400, H=300, fs=1):\n",
        "  tab_contents = []\n",
        "  for i, video_id in enumerate(video_ids):\n",
        "    out = widgets.Output()\n",
        "    with out:\n",
        "      if video_ids[i][0] == 'Youtube':\n",
        "        video = YouTubeVideo(id=video_ids[i][1], width=W,\n",
        "                             height=H, fs=fs, rel=0)\n",
        "        print(f'Video available at https://youtube.com/watch?v={video.id}')\n",
        "      else:\n",
        "        video = PlayVideo(id=video_ids[i][1], source=video_ids[i][0], width=W,\n",
        "                          height=H, fs=fs, autoplay=False)\n",
        "        if video_ids[i][0] == 'Bilibili':\n",
        "          print(f'Video available at https://www.bilibili.com/video/{video.id}')\n",
        "        elif video_ids[i][0] == 'Osf':\n",
        "          print(f'Video available at https://osf.io/{video.id}')\n",
        "      display(video)\n",
        "    tab_contents.append(out)\n",
        "  return tab_contents\n",
        "\n",
        "\n",
        "video_ids = [('Youtube', 'RxsAvyIoqEo'), ('Bilibili', 'BV1vv411E7Sq')]\n",
        "tab_contents = display_videos(video_ids, W=854, H=480)\n",
        "tabs = widgets.Tab()\n",
        "tabs.children = tab_contents\n",
        "for i in range(len(tab_contents)):\n",
        "  tabs.set_title(i, video_ids[i][0])\n",
        "display(tabs)"
      ]
    },
    {
      "cell_type": "code",
      "execution_count": null,
      "metadata": {
        "cellView": "form",
        "execution": {},
        "id": "nZTbzSeS3M2t"
      },
      "outputs": [],
      "source": [
        "# @title Submit your feedback\n",
        "content_review(f\"{feedback_prefix}_IllusoryCorrelations_Video\")"
      ]
    },
    {
      "cell_type": "markdown",
      "metadata": {
        "execution": {},
        "id": "EhEjGsZ33M2t"
      },
      "source": [
        "Let's recall the training loss curves. There was often a long plateau (where the weights are stuck at a saddle point), followed by a sudden drop. For very deep complex neural nets, such plateaus can take hours of training, and we are often tempted to stop the training, because we believe it is \"as good as it gets\"! Another side effect of \"immature interruption\" of training is the network finding (learning) illusory correlations.\n",
        "\n",
        "To better understand this, let's do the next demonstration and exercise."
      ]
    },
    {
      "cell_type": "markdown",
      "metadata": {
        "execution": {},
        "id": "awYWcTwB3M2t"
      },
      "source": [
        "## Demonstration: Illusory Correlations\n",
        "\n",
        "Our original dataset has 4 animals: Canary, Robin, Goldfish, and Tuna. These animals all have bones. Therefore if we include a \"has bone\" feature, the network would learn it at the second level (i.e. second bump, second mode convergence), when it learns the animal-plants distinction.\n",
        "\n",
        "What if the dataset has Shark instead of Goldfish. Sharks don't have bones (their skeletons are made of cartilaginous, which is much lighter than true bone and more flexible). Then we will have a feature which is *True* (i.e. +1) for Tuna, Robin, and Canary, but *False* (i.e. -1) for all the plants and the shark! Let's see what the network does.\n",
        "\n",
        "First, we add the new feature to the targets. We then start training our LNN and in every epoch, record the network prediction for \"sharks having bones\".\n",
        "\n",
        "<center><img src=\"https://raw.githubusercontent.com/NeuromatchAcademy/course-content-dl/main/tutorials/W1D2_LinearDeepLearning/static/shark_tree.png\" alt=\"Simple nn graph\" width=\"600\"/></center>"
      ]
    },
    {
      "cell_type": "code",
      "execution_count": null,
      "metadata": {
        "execution": {},
        "id": "jaqdVCue3M2t"
      },
      "outputs": [],
      "source": [
        "# Sampling new data from the tree\n",
        "tree_labels, tree_features = generate_hsd()\n",
        "\n",
        "# Replacing Goldfish with Shark\n",
        "item_names = ['Shark', 'Tuna', 'Robin', 'Canary',\n",
        "              'Rose', 'Daisy', 'Pine', 'Oak']\n",
        "\n",
        "# Index of label to record\n",
        "illusion_idx = 0  # Shark is the first element\n",
        "\n",
        "# The new feature (has bones) vector\n",
        "new_feature = [-1, 1, 1, 1, -1, -1, -1, -1]\n",
        "its_label = 'has_bones'\n",
        "\n",
        "# Adding feature has_bones to the feature array\n",
        "tree_features = add_feature(tree_features, new_feature)\n",
        "\n",
        "# Plotting\n",
        "plot_tree_data(item_names, tree_features, its_label)"
      ]
    },
    {
      "cell_type": "markdown",
      "metadata": {
        "execution": {},
        "id": "IL-iZ8013M2t"
      },
      "source": [
        "You can see the new feature shown in the last column of the plot above.\n",
        "\n",
        "Now we can train the network on the new data, and record the network prediction (output) for Shark (indexed 0) label and \"has bone\" feature (last feature, indexed -1), during the training.\n",
        "\n",
        "Here is the snippet from the training loop that keeps track of network prediction for `illusory_i`th label and last (`-1`) feature:\n",
        "\n",
        "```python\n",
        "pred_ij = predictions.detach()[illusory_i, -1]\n",
        "```"
      ]
    },
    {
      "cell_type": "code",
      "execution_count": null,
      "metadata": {
        "cellView": "form",
        "execution": {},
        "id": "6PNqKFfc3M2t"
      },
      "outputs": [],
      "source": [
        "#@markdown #### Make sure you execute this cell to train the network and plot\n",
        "\n",
        "# Convert (cast) data from np.ndarray to torch.Tensor\n",
        "label_tensor = torch.tensor(tree_labels).float()\n",
        "feature_tensor = torch.tensor(tree_features).float()\n",
        "\n",
        "lr = 100.0  # Learning rate\n",
        "gamma = 1e-12  # Initialization scale\n",
        "n_epochs = 250  # Number of epochs\n",
        "dim_input = 8  # Input dimension = `label_tensor.size(1)`\n",
        "dim_hidden = 30  # Hidden neurons\n",
        "dim_output = feature_tensor.size(1)\n",
        "\n",
        "# Model instantiation\n",
        "dlnn_model = LNNet(dim_input, dim_hidden, dim_output)\n",
        "\n",
        "# Weights re-initialization\n",
        "initializer_(dlnn_model, gamma)\n",
        "\n",
        "# Training\n",
        "_, modes, _, ill_predictions = train(dlnn_model,\n",
        "                                     label_tensor,\n",
        "                                     feature_tensor,\n",
        "                                     n_epochs=n_epochs,\n",
        "                                     lr=lr,\n",
        "                                     illusory_i=illusion_idx)\n",
        "\n",
        "# Label for the plot\n",
        "ill_label = f\"Prediction for {item_names[illusion_idx]} {its_label}\"\n",
        "\n",
        "# Plotting\n",
        "plot_ills_sv_twin(ill_predictions, modes, ill_label)"
      ]
    },
    {
      "cell_type": "markdown",
      "metadata": {
        "execution": {},
        "id": "dSfRODpV3M2t"
      },
      "source": [
        "It seems that the network starts by learning an \"illusory correlation\" that sharks have bones, and in later epochs, as it learns deeper representations, it can see (learn) beyond the illusory correlation. This is important to remember that we never presented the network with any data saying that sharks have bones."
      ]
    },
    {
      "cell_type": "markdown",
      "metadata": {
        "execution": {},
        "id": "Fdvn4MvY3M2t"
      },
      "source": [
        "## Exercise 4: Illusory Correlations\n",
        "\n",
        "This exercise is just for you to explore the idea of illusory correlations. Think of medical, natural, or possibly social illusory correlations which can test the learning power of deep linear neural nets.\n",
        "\n",
        "**important notes**: the generated data is independent of tree labels, therefore the names are just for convenience.\n",
        "\n",
        "Here is our example for **Non-human Living things do not speak**. The lines marked by `{edit}` are for you to change in your example."
      ]
    },
    {
      "cell_type": "code",
      "execution_count": null,
      "metadata": {
        "execution": {},
        "id": "3JSNQrwE3M2t"
      },
      "outputs": [],
      "source": [
        "# Sampling new data from the tree\n",
        "tree_labels, tree_features = generate_hsd()\n",
        "\n",
        "# {edit} Replacing Canary with Parrot\n",
        "item_names = ['Goldfish', 'Tuna', 'Robin', 'Parrot',\n",
        "              'Rose', 'Daisy', 'Pine', 'Oak']\n",
        "\n",
        "# {edit} Index of label to record\n",
        "illusion_idx = 3  # Parrot is the fourth element\n",
        "\n",
        "# {edit} The new feature (cannot speak) vector\n",
        "new_feature = [1, 1, 1, -1, 1, 1, 1, 1]\n",
        "its_label = 'cannot_speak'\n",
        "\n",
        "# Adding feature has_bones to the feature array\n",
        "tree_features = add_feature(tree_features, new_feature)\n",
        "\n",
        "# Plotting\n",
        "plot_tree_data(item_names, tree_features, its_label)"
      ]
    },
    {
      "cell_type": "code",
      "execution_count": null,
      "metadata": {
        "cellView": "form",
        "execution": {},
        "id": "q6v72kkv3M2t"
      },
      "outputs": [],
      "source": [
        "# @markdown #### Make sure you execute this cell to train the network and plot\n",
        "\n",
        "# Convert (cast) data from np.ndarray to torch.Tensor\n",
        "label_tensor = torch.tensor(tree_labels).float()\n",
        "feature_tensor = torch.tensor(tree_features).float()\n",
        "\n",
        "lr = 100.0  # Learning rate\n",
        "gamma = 1e-12  # Initialization scale\n",
        "n_epochs = 250  # Number of epochs\n",
        "dim_input = 8  # Input dimension = `label_tensor.size(1)`\n",
        "dim_hidden = 30  # Hidden neurons\n",
        "dim_output = feature_tensor.size(1)\n",
        "\n",
        "# Model instantiation\n",
        "dlnn_model = LNNet(dim_input, dim_hidden, dim_output)\n",
        "\n",
        "# Weights re-initialization\n",
        "initializer_(dlnn_model, gamma)\n",
        "\n",
        "# Training\n",
        "_, modes, _, ill_predictions = train(dlnn_model,\n",
        "                                     label_tensor,\n",
        "                                     feature_tensor,\n",
        "                                     n_epochs=n_epochs,\n",
        "                                     lr=lr,\n",
        "                                     illusory_i=illusion_idx)\n",
        "\n",
        "# Label for the plot\n",
        "ill_label = f\"Prediction for {item_names[illusion_idx]} {its_label}\"\n",
        "\n",
        "# Plotting\n",
        "plot_ills_sv_twin(ill_predictions, modes, ill_label)"
      ]
    },
    {
      "cell_type": "code",
      "execution_count": null,
      "metadata": {
        "cellView": "form",
        "execution": {},
        "id": "bL92q9da3M2t"
      },
      "outputs": [],
      "source": [
        "# @title Submit your feedback\n",
        "content_review(f\"{feedback_prefix}_Illusory_Correlations_Exercise\")"
      ]
    },
    {
      "cell_type": "code",
      "execution_count": null,
      "metadata": {
        "cellView": "form",
        "execution": {},
        "id": "Lun1AUCQ3M2t"
      },
      "outputs": [],
      "source": [
        "# @title Video 7: Illusory Correlations - Discussion\n",
        "from ipywidgets import widgets\n",
        "from IPython.display import YouTubeVideo\n",
        "from IPython.display import IFrame\n",
        "from IPython.display import display\n",
        "\n",
        "\n",
        "class PlayVideo(IFrame):\n",
        "  def __init__(self, id, source, page=1, width=400, height=300, **kwargs):\n",
        "    self.id = id\n",
        "    if source == 'Bilibili':\n",
        "      src = f'https://player.bilibili.com/player.html?bvid={id}&page={page}'\n",
        "    elif source == 'Osf':\n",
        "      src = f'https://mfr.ca-1.osf.io/render?url=https://osf.io/download/{id}/?direct%26mode=render'\n",
        "    super(PlayVideo, self).__init__(src, width, height, **kwargs)\n",
        "\n",
        "\n",
        "def display_videos(video_ids, W=400, H=300, fs=1):\n",
        "  tab_contents = []\n",
        "  for i, video_id in enumerate(video_ids):\n",
        "    out = widgets.Output()\n",
        "    with out:\n",
        "      if video_ids[i][0] == 'Youtube':\n",
        "        video = YouTubeVideo(id=video_ids[i][1], width=W,\n",
        "                             height=H, fs=fs, rel=0)\n",
        "        print(f'Video available at https://youtube.com/watch?v={video.id}')\n",
        "      else:\n",
        "        video = PlayVideo(id=video_ids[i][1], source=video_ids[i][0], width=W,\n",
        "                          height=H, fs=fs, autoplay=False)\n",
        "        if video_ids[i][0] == 'Bilibili':\n",
        "          print(f'Video available at https://www.bilibili.com/video/{video.id}')\n",
        "        elif video_ids[i][0] == 'Osf':\n",
        "          print(f'Video available at https://osf.io/{video.id}')\n",
        "      display(video)\n",
        "    tab_contents.append(out)\n",
        "  return tab_contents\n",
        "\n",
        "\n",
        "video_ids = [('Youtube', '6VLHKQjQJmI'), ('Bilibili', 'BV1vv411E7rg')]\n",
        "tab_contents = display_videos(video_ids, W=854, H=480)\n",
        "tabs = widgets.Tab()\n",
        "tabs.children = tab_contents\n",
        "for i in range(len(tab_contents)):\n",
        "  tabs.set_title(i, video_ids[i][0])\n",
        "display(tabs)"
      ]
    },
    {
      "cell_type": "code",
      "execution_count": null,
      "metadata": {
        "cellView": "form",
        "execution": {},
        "id": "Jx4dY-z53M2t"
      },
      "outputs": [],
      "source": [
        "# @title Submit your feedback\n",
        "content_review(f\"{feedback_prefix}_Illusory_Correlations_Discussion_Video\")"
      ]
    },
    {
      "cell_type": "markdown",
      "metadata": {
        "execution": {},
        "id": "TB972YDn3M2t"
      },
      "source": [
        "---\n",
        "# Summary\n",
        "\n",
        "The second day of the course has ended. So, in the third tutorial of the linear deep learning day we have learned more advanced topics. In the beginning we implemented a deep linear neural network and then we studied its learning dynamics using the linear algebra tool called singular value decomposition. Then, we learned about the representational similarity analysis and the illusory correlation."
      ]
    },
    {
      "cell_type": "code",
      "execution_count": null,
      "metadata": {
        "cellView": "form",
        "execution": {},
        "id": "3NnM6nOH3M2t"
      },
      "outputs": [],
      "source": [
        "# @title Video 8: Outro\n",
        "from ipywidgets import widgets\n",
        "from IPython.display import YouTubeVideo\n",
        "from IPython.display import IFrame\n",
        "from IPython.display import display\n",
        "\n",
        "\n",
        "class PlayVideo(IFrame):\n",
        "  def __init__(self, id, source, page=1, width=400, height=300, **kwargs):\n",
        "    self.id = id\n",
        "    if source == 'Bilibili':\n",
        "      src = f'https://player.bilibili.com/player.html?bvid={id}&page={page}'\n",
        "    elif source == 'Osf':\n",
        "      src = f'https://mfr.ca-1.osf.io/render?url=https://osf.io/download/{id}/?direct%26mode=render'\n",
        "    super(PlayVideo, self).__init__(src, width, height, **kwargs)\n",
        "\n",
        "\n",
        "def display_videos(video_ids, W=400, H=300, fs=1):\n",
        "  tab_contents = []\n",
        "  for i, video_id in enumerate(video_ids):\n",
        "    out = widgets.Output()\n",
        "    with out:\n",
        "      if video_ids[i][0] == 'Youtube':\n",
        "        video = YouTubeVideo(id=video_ids[i][1], width=W,\n",
        "                             height=H, fs=fs, rel=0)\n",
        "        print(f'Video available at https://youtube.com/watch?v={video.id}')\n",
        "      else:\n",
        "        video = PlayVideo(id=video_ids[i][1], source=video_ids[i][0], width=W,\n",
        "                          height=H, fs=fs, autoplay=False)\n",
        "        if video_ids[i][0] == 'Bilibili':\n",
        "          print(f'Video available at https://www.bilibili.com/video/{video.id}')\n",
        "        elif video_ids[i][0] == 'Osf':\n",
        "          print(f'Video available at https://osf.io/{video.id}')\n",
        "      display(video)\n",
        "    tab_contents.append(out)\n",
        "  return tab_contents\n",
        "\n",
        "\n",
        "video_ids = [('Youtube', 'N2szOIsKyXE'), ('Bilibili', 'BV1AL411n7ns')]\n",
        "tab_contents = display_videos(video_ids, W=854, H=480)\n",
        "tabs = widgets.Tab()\n",
        "tabs.children = tab_contents\n",
        "for i in range(len(tab_contents)):\n",
        "  tabs.set_title(i, video_ids[i][0])\n",
        "display(tabs)"
      ]
    },
    {
      "cell_type": "code",
      "execution_count": null,
      "metadata": {
        "cellView": "form",
        "execution": {},
        "id": "PacB23Ij3M2t"
      },
      "outputs": [],
      "source": [
        "# @title Submit your feedback\n",
        "content_review(f\"{feedback_prefix}_Outro_Video\")"
      ]
    },
    {
      "cell_type": "markdown",
      "metadata": {
        "execution": {},
        "id": "59PsgW8v3M2t"
      },
      "source": [
        "---\n",
        "# Daily survey\n",
        "\n",
        "Don't forget to complete your reflections and content check in the daily survey! Please be patient after logging in as there is\n",
        "a small delay before you will be redirected to the survey.\n",
        "\n",
        "<a href=\"https://portal.neuromatchacademy.org/api/redirect/to/36baec17-b227-4ee9-bd21-72d3c0fcddf4\"><img src=\"https://github.com/NeuromatchAcademy/course-content-dl/blob/main/tutorials/static/SurveyButton.png?raw=1\" alt=\"button link to survey\" style=\"width:410px\"></a>"
      ]
    },
    {
      "cell_type": "markdown",
      "metadata": {
        "execution": {},
        "id": "CtLU42R33M2t"
      },
      "source": [
        "---\n",
        "# Bonus\n",
        "\n",
        "*Time estimate: ~20-30 mins*"
      ]
    },
    {
      "cell_type": "code",
      "execution_count": null,
      "metadata": {
        "cellView": "form",
        "execution": {},
        "id": "VnmTreoP3M2t"
      },
      "outputs": [],
      "source": [
        "# @title Video 9: Linear Regression\n",
        "from ipywidgets import widgets\n",
        "from IPython.display import YouTubeVideo\n",
        "from IPython.display import IFrame\n",
        "from IPython.display import display\n",
        "\n",
        "\n",
        "class PlayVideo(IFrame):\n",
        "  def __init__(self, id, source, page=1, width=400, height=300, **kwargs):\n",
        "    self.id = id\n",
        "    if source == 'Bilibili':\n",
        "      src = f'https://player.bilibili.com/player.html?bvid={id}&page={page}'\n",
        "    elif source == 'Osf':\n",
        "      src = f'https://mfr.ca-1.osf.io/render?url=https://osf.io/download/{id}/?direct%26mode=render'\n",
        "    super(PlayVideo, self).__init__(src, width, height, **kwargs)\n",
        "\n",
        "\n",
        "def display_videos(video_ids, W=400, H=300, fs=1):\n",
        "  tab_contents = []\n",
        "  for i, video_id in enumerate(video_ids):\n",
        "    out = widgets.Output()\n",
        "    with out:\n",
        "      if video_ids[i][0] == 'Youtube':\n",
        "        video = YouTubeVideo(id=video_ids[i][1], width=W,\n",
        "                             height=H, fs=fs, rel=0)\n",
        "        print(f'Video available at https://youtube.com/watch?v={video.id}')\n",
        "      else:\n",
        "        video = PlayVideo(id=video_ids[i][1], source=video_ids[i][0], width=W,\n",
        "                          height=H, fs=fs, autoplay=False)\n",
        "        if video_ids[i][0] == 'Bilibili':\n",
        "          print(f'Video available at https://www.bilibili.com/video/{video.id}')\n",
        "        elif video_ids[i][0] == 'Osf':\n",
        "          print(f'Video available at https://osf.io/{video.id}')\n",
        "      display(video)\n",
        "    tab_contents.append(out)\n",
        "  return tab_contents\n",
        "\n",
        "\n",
        "video_ids = [('Youtube', 'uULOAbhYaaE'), ('Bilibili', 'BV1Pf4y1L71L')]\n",
        "tab_contents = display_videos(video_ids, W=854, H=480)\n",
        "tabs = widgets.Tab()\n",
        "tabs.children = tab_contents\n",
        "for i in range(len(tab_contents)):\n",
        "  tabs.set_title(i, video_ids[i][0])\n",
        "display(tabs)"
      ]
    },
    {
      "cell_type": "code",
      "execution_count": null,
      "metadata": {
        "cellView": "form",
        "execution": {},
        "id": "nR2qk0593M2t"
      },
      "outputs": [],
      "source": [
        "# @title Submit your feedback\n",
        "content_review(f\"{feedback_prefix}_Linear_Regression_Bonus_Video\")"
      ]
    },
    {
      "cell_type": "markdown",
      "metadata": {
        "execution": {},
        "id": "r25uD3kd3M2t"
      },
      "source": [
        "## Section 5.1: Linear Regression\n",
        "\n",
        "Generally, *regression* refers to a set of methods for modeling the mapping (relationship) between one (or more) independent variable(s) (i.e., features) and one (or more) dependent variable(s) (i.e., labels). For example, if we want to examine the relative impacts of calendar date, GPS coordinates, and time of the say (the independent variables) on air temperature (the dependent variable). On the other hand, regression can be used for predictive analysis. Thus the independent variables are also called predictors. When the model contains more than one predictor, then the method is called *multiple regression*, and if it contains more than one dependent variable called *multivariate regression*. Regression problems pop up whenever we want to predict a numerical (usually continuous) value.\n",
        "\n",
        "The independent variables are collected in vector $\\mathbf{x} \\in \\mathbb{R}^M$, where $M$ denotes the number of independent variables, while the dependent variables are collected in vector $\\mathbf{y} \\in \\mathbb{R}^N$, where $N$ denotes the number of dependent variables. And the mapping between them is represented by the weight matrix $\\mathbf{W} \\in \\mathbb{R}^{N \\times M}$ and a bias vector $\\mathbf{b} \\in \\mathbb{R}^{N}$ (generalizing to affine mappings).\n",
        "\n",
        "The multivariate regression model can be written as:\n",
        "\n",
        "\\begin{equation}\n",
        "\\mathbf{y} = \\mathbf{W} ~ \\mathbf{x} + \\mathbf{b}\n",
        "\\end{equation}\n",
        "\n",
        "or it can be written in matrix format as:\n",
        "\n",
        "\\begin{equation}\n",
        "\\begin{bmatrix} y_{1} \\\\ y_{2} \\\\ \\vdots \\\\ y_{N} \\\\ \\end{bmatrix} = \\begin{bmatrix} w_{1,1} & w_{1,2} & \\dots & w_{1,M} \\\\ w_{2,1} & w_{2,2} & \\dots & w_{2,M} \\\\ \\vdots & \\ddots & \\ddots & \\vdots \\\\ w_{N,1} & w_{N,2} & \\dots & w_{N,M} \\end{bmatrix} \\begin{bmatrix} x_{1} \\\\ x_{2} \\\\ \\vdots \\\\ x_{M} \\\\ \\end{bmatrix} + \\begin{bmatrix} b_{1} \\\\ b_{2} \\\\ \\vdots \\\\b_{N} \\\\ \\end{bmatrix}\n",
        "\\end{equation}"
      ]
    },
    {
      "cell_type": "markdown",
      "metadata": {
        "execution": {},
        "id": "3r_eGk0J3M2t"
      },
      "source": [
        "## Section 5.2: Vectorized regression\n",
        "\n",
        "Linear regression can be simply extended to multi-samples ($D$) input-output mapping, which we can collect in a matrix $\\mathbf{X} \\in \\mathbb{R}^{M \\times D}$, sometimes called the design matrix. The sample dimension also shows up in the output matrix $\\mathbf{Y} \\in \\mathbb{R}^{N \\times D}$. Thus, linear regression takes the following form:\n",
        "\n",
        "\\begin{equation}\n",
        "\\mathbf{Y} = \\mathbf{W} ~ \\mathbf{X} + \\mathbf{b}\n",
        "\\end{equation}\n",
        "\n",
        "where matrix $\\mathbf{W} \\in \\mathbb{R}^{N \\times M}$ and the vector $\\mathbf{b} \\in \\mathbb{R}^{N}$ (broadcasted over sample dimension) are the desired parameters to find."
      ]
    },
    {
      "cell_type": "markdown",
      "metadata": {
        "execution": {},
        "id": "FVVijMmd3M2t"
      },
      "source": [
        "## Section 5.3: Analytical Linear Regression"
      ]
    },
    {
      "cell_type": "markdown",
      "metadata": {
        "execution": {},
        "id": "kHLBd83w3M2u"
      },
      "source": [
        "Linear regression is a relatively simple optimization problem. Unlike most other models that we will see in this course, linear regression for mean squared loss can be solved analytically.\n",
        "\n",
        "For $D$ samples (batch size), $\\mathbf{X} \\in \\mathbb{R}^{M \\times D}$, and $\\mathbf{Y} \\in \\mathbb{R}^{N \\times D}$, the goal of linear regression is to find $\\mathbf{W} \\in \\mathbb{R}^{N \\times M}$ such that:\n",
        "\n",
        "\\begin{equation}\n",
        "\\mathbf{Y} = \\mathbf{W} ~ \\mathbf{X}\n",
        "\\end{equation}\n",
        "\n",
        "Given the Squared Error loss function, we have:\n",
        "\n",
        "\\begin{equation}\n",
        "Loss(\\mathbf{W}) = ||\\mathbf{Y} - \\mathbf{W} ~ \\mathbf{X}||^2\n",
        "\\end{equation}\n",
        "\n",
        "So, using matrix notation, the optimization problem is given by:\n",
        "\n",
        "\\begin{align}\n",
        "\\mathbf{W^{*}} &= \\underset{\\mathbf{W}}{\\mathrm{argmin}} \\left( Loss (\\mathbf{W})  \\right) \\\\\n",
        " &= \\underset{\\mathbf{W}}{\\mathrm{argmin}} \\left( ||\\mathbf{Y} - \\mathbf{W} ~ \\mathbf{X}||^2  \\right) \\\\\n",
        "&= \\underset{\\mathbf{W}}{\\mathrm{argmin}} \\left( \\left( \\mathbf{Y} - \\mathbf{W} ~ \\mathbf{X}\\right)^{\\top} \\left( \\mathbf{Y} - \\mathbf{W} ~ \\mathbf{X}\\right) \\right)\n",
        "\\end{align}\n",
        "\n",
        "To solve the minimization problem, we can simply set the derivative of the loss with respect to $\\mathbf{W}$ to zero.\n",
        "\n",
        "\\begin{equation}\n",
        "\\dfrac{\\partial Loss}{\\partial \\mathbf{W}} = 0\n",
        "\\end{equation}\n",
        "\n",
        "Assuming that $\\mathbf{X}\\mathbf{X}^{\\top}$ is full-rank, and thus it is invertible, we can write:\n",
        "\n",
        "\\begin{equation}\n",
        "\\mathbf{W}^{\\mathbf{*}} = \\mathbf{Y} \\mathbf{X}^{\\top} \\left( \\mathbf{X}  \\mathbf{X}^{\\top} \\right) ^{-1}\n",
        "\\end{equation}\n",
        "\n",
        "<br>\n",
        "\n",
        "**Note:** The $||\\cdot||$ denotes the norm 2 or the Euclidean norm of a vector."
      ]
    },
    {
      "cell_type": "markdown",
      "metadata": {
        "execution": {},
        "id": "kz83iiNI3M2u"
      },
      "source": [
        "### Coding Exercise 5.3.1: Analytical solution to LR\n",
        "\n",
        "Complete the function `linear_regression` for finding the analytical solution to linear regression."
      ]
    },
    {
      "cell_type": "code",
      "execution_count": null,
      "metadata": {
        "execution": {},
        "id": "ijSeJ5eZ3M2u"
      },
      "outputs": [],
      "source": [
        "def linear_regression(X, Y):\n",
        "  \"\"\"\n",
        "  Analytical Linear regression\n",
        "\n",
        "  Args:\n",
        "    X: np.ndarray\n",
        "      Design matrix\n",
        "    Y: np.ndarray\n",
        "      Target ouputs\n",
        "\n",
        "  Returns:\n",
        "    W: np.ndarray\n",
        "      Estimated weights (mapping)\n",
        "  \"\"\"\n",
        "  assert isinstance(X, np.ndarray)\n",
        "  assert isinstance(Y, np.ndarray)\n",
        "  M, Dx = X.shape\n",
        "  N, Dy = Y.shape\n",
        "  assert Dx == Dy\n",
        "  #################################################\n",
        "  ## Complete the linear_regression_exercise function\n",
        "  # Complete the function and remove or comment the line below\n",
        "  raise NotImplementedError(\"Linear Regression `linear_regression`\")\n",
        "  #################################################\n",
        "  W = ...\n",
        "\n",
        "  return W\n",
        "\n",
        "\n",
        "W_true = np.random.randint(low=0, high=10, size=(3, 3)).astype(float)\n",
        "\n",
        "X_train = np.random.rand(3, 37)  # 37 samples\n",
        "noise = np.random.normal(scale=0.01, size=(3, 37))\n",
        "Y_train = W_true @ X_train + noise\n",
        "\n",
        "## Uncomment and run\n",
        "# W_estimate = linear_regression(X_train, Y_train)\n",
        "# print(f\"True weights:\\n {W_true}\")\n",
        "# print(f\"\\nEstimated weights:\\n {np.round(W_estimate, 1)}\")"
      ]
    },
    {
      "cell_type": "markdown",
      "metadata": {
        "execution": {},
        "id": "E-gnD9Pe3M2u"
      },
      "source": [
        "[*Click for solution*](https://github.com/NeuromatchAcademy/course-content-dl/tree/main/tutorials/W1D2_LinearDeepLearning/solutions/W1D2_Tutorial3_Solution_aa3d6993.py)\n",
        "\n"
      ]
    },
    {
      "cell_type": "code",
      "execution_count": null,
      "metadata": {
        "cellView": "form",
        "execution": {},
        "id": "vl6ovr7E3M2u"
      },
      "outputs": [],
      "source": [
        "# @title Submit your feedback\n",
        "content_review(f\"{feedback_prefix}_Analytical_Solution_to_LR_Exercise\")"
      ]
    },
    {
      "cell_type": "markdown",
      "metadata": {
        "execution": {},
        "id": "FKSmZ6fk3M2u"
      },
      "source": [
        "## Demonstration: Linear Regression vs. DLNN\n",
        "\n",
        "A linear neural network with NO hidden layer is very similar to linear regression in its core. We also know that no matter how many hidden layers a linear network has, it can be compressed to linear regression (no hidden layers).\n",
        "\n",
        "In this demonstration, we use the hierarchically structured data to:\n",
        "\n",
        "* analytically find the mapping between features and labels\n",
        "* train a zero-depth LNN to find the mapping\n",
        "* compare them to the $W_{tot}$ from the already trained deep LNN"
      ]
    },
    {
      "cell_type": "code",
      "execution_count": null,
      "metadata": {
        "execution": {},
        "id": "hcAg0aTs3M2u"
      },
      "outputs": [],
      "source": [
        "# Sampling new data from the tree\n",
        "tree_labels, tree_features = generate_hsd()\n",
        "\n",
        "# Convert (cast) data from np.ndarray to torch.Tensor\n",
        "label_tensor = torch.tensor(tree_labels).float()\n",
        "feature_tensor = torch.tensor(tree_features).float()"
      ]
    },
    {
      "cell_type": "code",
      "execution_count": null,
      "metadata": {
        "execution": {},
        "id": "tpCyJJ-R3M2u"
      },
      "outputs": [],
      "source": [
        "# Calculating the W_tot for deep network (already trained model)\n",
        "\n",
        "lr = 100.0  # Learning rate\n",
        "gamma = 1e-12  # Initialization scale\n",
        "n_epochs = 250  # Number of epochs\n",
        "dim_input = 8  # Input dimension = `label_tensor.size(1)`\n",
        "dim_hidden = 30  # Hidden neurons\n",
        "dim_output = 10000  # Output dimension = `feature_tensor.size(1)`\n",
        "\n",
        "# Model instantiation\n",
        "dlnn_model = LNNet(dim_input, dim_hidden, dim_output)\n",
        "\n",
        "# Weights re-initialization\n",
        "initializer_(dlnn_model, gamma)\n",
        "\n",
        "# Training\n",
        "losses, modes, rsms, ills = train(dlnn_model,\n",
        "                                  label_tensor,\n",
        "                                  feature_tensor,\n",
        "                                  n_epochs=n_epochs,\n",
        "                                  lr=lr)\n",
        "\n",
        "deep_W_tot = torch.eye(dim_input)\n",
        "for weight in dlnn_model.parameters():\n",
        "  deep_W_tot = weight @ deep_W_tot\n",
        "deep_W_tot = deep_W_tot.detach().numpy()"
      ]
    },
    {
      "cell_type": "code",
      "execution_count": null,
      "metadata": {
        "execution": {},
        "id": "qzW0VzPT3M2u"
      },
      "outputs": [],
      "source": [
        "# Analytically estimation of weights\n",
        "# First dimension of data is `batch`, so we need to transpose our data\n",
        "analytical_weights = linear_regression(tree_labels.T, tree_features.T)"
      ]
    },
    {
      "cell_type": "code",
      "execution_count": null,
      "metadata": {
        "execution": {},
        "id": "Gmgfrhbe3M2u"
      },
      "outputs": [],
      "source": [
        "class LRNet(nn.Module):\n",
        "  \"\"\"\n",
        "  A Linear Neural Net with ZERO hidden layer (LR net)\n",
        "  \"\"\"\n",
        "\n",
        "  def __init__(self, in_dim, out_dim):\n",
        "    \"\"\"\n",
        "    Initialize LRNet\n",
        "\n",
        "    Args:\n",
        "      in_dim: int\n",
        "        Input dimension\n",
        "      hid_dim: int\n",
        "        Hidden dimension\n",
        "\n",
        "    Returns:\n",
        "      Nothing\n",
        "    \"\"\"\n",
        "    super().__init__()\n",
        "    self.in_out = nn.Linear(in_dim, out_dim, bias=False)\n",
        "\n",
        "  def forward(self, x):\n",
        "    \"\"\"\n",
        "    Forward pass of LRNet\n",
        "\n",
        "    Args:\n",
        "      x: torch.Tensor\n",
        "        Input tensor\n",
        "\n",
        "    Returns:\n",
        "      out: torch.Tensor\n",
        "        Output/Prediction\n",
        "    \"\"\"\n",
        "    out = self.in_out(x)  # Output (Prediction)\n",
        "    return out"
      ]
    },
    {
      "cell_type": "code",
      "execution_count": null,
      "metadata": {
        "execution": {},
        "id": "xJZNYKtL3M2u"
      },
      "outputs": [],
      "source": [
        "lr = 1000.0  # Learning rate\n",
        "gamma = 1e-12  # Initialization scale\n",
        "n_epochs = 250  # Number of epochs\n",
        "dim_input = 8  # Input dimension = `label_tensor.size(1)`\n",
        "dim_output = 10000  # Output dimension = `feature_tensor.size(1)`\n",
        "\n",
        "# Model instantiation\n",
        "LR_model = LRNet(dim_input, dim_output)\n",
        "optimizer = optim.SGD(LR_model.parameters(), lr=lr)\n",
        "criterion = nn.MSELoss()\n",
        "\n",
        "losses = np.zeros(n_epochs)  # Loss records\n",
        "for i in range(n_epochs):  # Training loop\n",
        "  optimizer.zero_grad()\n",
        "  predictions = LR_model(label_tensor)\n",
        "  loss = criterion(predictions, feature_tensor)\n",
        "  loss.backward()\n",
        "  optimizer.step()\n",
        "  losses[i] = loss.item()\n",
        "\n",
        "# Trained weights from zero_depth_model\n",
        "LR_model_weights = next(iter(LR_model.parameters())).detach().numpy()\n",
        "\n",
        "plot_loss(losses, \"Training loss for zero depth LNN\", c=\"r\")"
      ]
    },
    {
      "cell_type": "code",
      "execution_count": null,
      "metadata": {
        "execution": {},
        "id": "BDuFg6sZ3M2u"
      },
      "outputs": [],
      "source": [
        "print(\"The final weights from all methods are approximately equal?! \"\n",
        "\"{}!\".format(\n",
        "  (np.allclose(analytical_weights, LR_model_weights, atol=1e-02) and \\\n",
        "   np.allclose(analytical_weights, deep_W_tot, atol=1e-02))\n",
        "  )\n",
        ")"
      ]
    },
    {
      "cell_type": "markdown",
      "metadata": {
        "execution": {},
        "id": "kiZwEPma3M2u"
      },
      "source": [
        "As you may have guessed, they all arrive at the same results but through very different paths."
      ]
    },
    {
      "cell_type": "code",
      "execution_count": null,
      "metadata": {
        "cellView": "form",
        "execution": {},
        "id": "U207vfFJ3M2u"
      },
      "outputs": [],
      "source": [
        "# @title Video 10: Linear Regression - Discussion\n",
        "from ipywidgets import widgets\n",
        "from IPython.display import YouTubeVideo\n",
        "from IPython.display import IFrame\n",
        "from IPython.display import display\n",
        "\n",
        "\n",
        "class PlayVideo(IFrame):\n",
        "  def __init__(self, id, source, page=1, width=400, height=300, **kwargs):\n",
        "    self.id = id\n",
        "    if source == 'Bilibili':\n",
        "      src = f'https://player.bilibili.com/player.html?bvid={id}&page={page}'\n",
        "    elif source == 'Osf':\n",
        "      src = f'https://mfr.ca-1.osf.io/render?url=https://osf.io/download/{id}/?direct%26mode=render'\n",
        "    super(PlayVideo, self).__init__(src, width, height, **kwargs)\n",
        "\n",
        "\n",
        "def display_videos(video_ids, W=400, H=300, fs=1):\n",
        "  tab_contents = []\n",
        "  for i, video_id in enumerate(video_ids):\n",
        "    out = widgets.Output()\n",
        "    with out:\n",
        "      if video_ids[i][0] == 'Youtube':\n",
        "        video = YouTubeVideo(id=video_ids[i][1], width=W,\n",
        "                             height=H, fs=fs, rel=0)\n",
        "        print(f'Video available at https://youtube.com/watch?v={video.id}')\n",
        "      else:\n",
        "        video = PlayVideo(id=video_ids[i][1], source=video_ids[i][0], width=W,\n",
        "                          height=H, fs=fs, autoplay=False)\n",
        "        if video_ids[i][0] == 'Bilibili':\n",
        "          print(f'Video available at https://www.bilibili.com/video/{video.id}')\n",
        "        elif video_ids[i][0] == 'Osf':\n",
        "          print(f'Video available at https://osf.io/{video.id}')\n",
        "      display(video)\n",
        "    tab_contents.append(out)\n",
        "  return tab_contents\n",
        "\n",
        "\n",
        "video_ids = [('Youtube', 'gG15_J0i05Y'), ('Bilibili', 'BV18v411E7Wg')]\n",
        "tab_contents = display_videos(video_ids, W=854, H=480)\n",
        "tabs = widgets.Tab()\n",
        "tabs.children = tab_contents\n",
        "for i in range(len(tab_contents)):\n",
        "  tabs.set_title(i, video_ids[i][0])\n",
        "display(tabs)"
      ]
    },
    {
      "cell_type": "code",
      "execution_count": null,
      "metadata": {
        "cellView": "form",
        "execution": {},
        "id": "uibPvqMW3M2u"
      },
      "outputs": [],
      "source": [
        "# @title Submit your feedback\n",
        "content_review(f\"{feedback_prefix}_Linear_Regression_Discussion_Video\")"
      ]
    }
  ],
  "metadata": {
    "colab": {
      "name": "W1D2_Tutorial3",
      "provenance": [],
      "toc_visible": true,
      "include_colab_link": true
    },
    "kernel": {
      "display_name": "Python 3",
      "language": "python",
      "name": "python3"
    },
    "kernelspec": {
      "display_name": "Python 3",
      "name": "python3"
    },
    "language_info": {
      "codemirror_mode": {
        "name": "ipython",
        "version": 3
      },
      "file_extension": ".py",
      "mimetype": "text/x-python",
      "name": "python",
      "nbconvert_exporter": "python",
      "pygments_lexer": "ipython3",
      "version": "3.7.11"
    },
    "widgets": {
      "application/vnd.jupyter.widget-state+json": {
        "a369282be7284bb2a4141ef6a2bbe4e9": {
          "model_module": "@jupyter-widgets/controls",
          "model_name": "TabModel",
          "model_module_version": "1.5.0",
          "state": {
            "_dom_classes": [],
            "_model_module": "@jupyter-widgets/controls",
            "_model_module_version": "1.5.0",
            "_model_name": "TabModel",
            "_titles": {
              "0": "Youtube",
              "1": "Bilibili"
            },
            "_view_count": null,
            "_view_module": "@jupyter-widgets/controls",
            "_view_module_version": "1.5.0",
            "_view_name": "TabView",
            "box_style": "",
            "children": [
              "IPY_MODEL_874de37efa874c03b95c034952b5f6bf",
              "IPY_MODEL_5f2abbab30864178b6ad928647a94597"
            ],
            "layout": "IPY_MODEL_1bba597c9b56476d85d6c29c1d58c664",
            "selected_index": 0
          }
        },
        "874de37efa874c03b95c034952b5f6bf": {
          "model_module": "@jupyter-widgets/output",
          "model_name": "OutputModel",
          "model_module_version": "1.0.0",
          "state": {
            "_dom_classes": [],
            "_model_module": "@jupyter-widgets/output",
            "_model_module_version": "1.0.0",
            "_model_name": "OutputModel",
            "_view_count": null,
            "_view_module": "@jupyter-widgets/output",
            "_view_module_version": "1.0.0",
            "_view_name": "OutputView",
            "layout": "IPY_MODEL_862d0c2ae64449228252422505a20620",
            "msg_id": "",
            "outputs": [
              {
                "output_type": "stream",
                "name": "stdout",
                "text": [
                  "Video available at https://youtube.com/watch?v=DqMSU4Bikt0\n"
                ]
              },
              {
                "output_type": "display_data",
                "data": {
                  "text/plain": "<IPython.lib.display.YouTubeVideo at 0x79209041ab10>",
                  "text/html": "\n        <iframe\n            width=\"854\"\n            height=\"480\"\n            src=\"https://www.youtube.com/embed/DqMSU4Bikt0?fs=1&rel=0\"\n            frameborder=\"0\"\n            allowfullscreen\n            \n        ></iframe>\n        ",
                  "image/jpeg": "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\n"
                },
                "metadata": {}
              }
            ]
          }
        },
        "5f2abbab30864178b6ad928647a94597": {
          "model_module": "@jupyter-widgets/output",
          "model_name": "OutputModel",
          "model_module_version": "1.0.0",
          "state": {
            "_dom_classes": [],
            "_model_module": "@jupyter-widgets/output",
            "_model_module_version": "1.0.0",
            "_model_name": "OutputModel",
            "_view_count": null,
            "_view_module": "@jupyter-widgets/output",
            "_view_module_version": "1.0.0",
            "_view_name": "OutputView",
            "layout": "IPY_MODEL_de6f2e24855948809b72b91d362fa7a9",
            "msg_id": "",
            "outputs": [
              {
                "output_type": "stream",
                "name": "stdout",
                "text": [
                  "Video available at https://www.bilibili.com/video/BV1iM4y1T7eJ\n"
                ]
              },
              {
                "output_type": "display_data",
                "data": {
                  "text/plain": "<__main__.PlayVideo at 0x79207b655b90>",
                  "text/html": "\n        <iframe\n            width=\"854\"\n            height=\"480\"\n            src=\"https://player.bilibili.com/player.html?bvid=BV1iM4y1T7eJ&page=1?fs=1&autoplay=False\"\n            frameborder=\"0\"\n            allowfullscreen\n            \n        ></iframe>\n        "
                },
                "metadata": {}
              }
            ]
          }
        },
        "1bba597c9b56476d85d6c29c1d58c664": {
          "model_module": "@jupyter-widgets/base",
          "model_name": "LayoutModel",
          "model_module_version": "1.2.0",
          "state": {
            "_model_module": "@jupyter-widgets/base",
            "_model_module_version": "1.2.0",
            "_model_name": "LayoutModel",
            "_view_count": null,
            "_view_module": "@jupyter-widgets/base",
            "_view_module_version": "1.2.0",
            "_view_name": "LayoutView",
            "align_content": null,
            "align_items": null,
            "align_self": null,
            "border": null,
            "bottom": null,
            "display": null,
            "flex": null,
            "flex_flow": null,
            "grid_area": null,
            "grid_auto_columns": null,
            "grid_auto_flow": null,
            "grid_auto_rows": null,
            "grid_column": null,
            "grid_gap": null,
            "grid_row": null,
            "grid_template_areas": null,
            "grid_template_columns": null,
            "grid_template_rows": null,
            "height": null,
            "justify_content": null,
            "justify_items": null,
            "left": null,
            "margin": null,
            "max_height": null,
            "max_width": null,
            "min_height": null,
            "min_width": null,
            "object_fit": null,
            "object_position": null,
            "order": null,
            "overflow": null,
            "overflow_x": null,
            "overflow_y": null,
            "padding": null,
            "right": null,
            "top": null,
            "visibility": null,
            "width": null
          }
        },
        "862d0c2ae64449228252422505a20620": {
          "model_module": "@jupyter-widgets/base",
          "model_name": "LayoutModel",
          "model_module_version": "1.2.0",
          "state": {
            "_model_module": "@jupyter-widgets/base",
            "_model_module_version": "1.2.0",
            "_model_name": "LayoutModel",
            "_view_count": null,
            "_view_module": "@jupyter-widgets/base",
            "_view_module_version": "1.2.0",
            "_view_name": "LayoutView",
            "align_content": null,
            "align_items": null,
            "align_self": null,
            "border": null,
            "bottom": null,
            "display": null,
            "flex": null,
            "flex_flow": null,
            "grid_area": null,
            "grid_auto_columns": null,
            "grid_auto_flow": null,
            "grid_auto_rows": null,
            "grid_column": null,
            "grid_gap": null,
            "grid_row": null,
            "grid_template_areas": null,
            "grid_template_columns": null,
            "grid_template_rows": null,
            "height": null,
            "justify_content": null,
            "justify_items": null,
            "left": null,
            "margin": null,
            "max_height": null,
            "max_width": null,
            "min_height": null,
            "min_width": null,
            "object_fit": null,
            "object_position": null,
            "order": null,
            "overflow": null,
            "overflow_x": null,
            "overflow_y": null,
            "padding": null,
            "right": null,
            "top": null,
            "visibility": null,
            "width": null
          }
        },
        "de6f2e24855948809b72b91d362fa7a9": {
          "model_module": "@jupyter-widgets/base",
          "model_name": "LayoutModel",
          "model_module_version": "1.2.0",
          "state": {
            "_model_module": "@jupyter-widgets/base",
            "_model_module_version": "1.2.0",
            "_model_name": "LayoutModel",
            "_view_count": null,
            "_view_module": "@jupyter-widgets/base",
            "_view_module_version": "1.2.0",
            "_view_name": "LayoutView",
            "align_content": null,
            "align_items": null,
            "align_self": null,
            "border": null,
            "bottom": null,
            "display": null,
            "flex": null,
            "flex_flow": null,
            "grid_area": null,
            "grid_auto_columns": null,
            "grid_auto_flow": null,
            "grid_auto_rows": null,
            "grid_column": null,
            "grid_gap": null,
            "grid_row": null,
            "grid_template_areas": null,
            "grid_template_columns": null,
            "grid_template_rows": null,
            "height": null,
            "justify_content": null,
            "justify_items": null,
            "left": null,
            "margin": null,
            "max_height": null,
            "max_width": null,
            "min_height": null,
            "min_width": null,
            "object_fit": null,
            "object_position": null,
            "order": null,
            "overflow": null,
            "overflow_x": null,
            "overflow_y": null,
            "padding": null,
            "right": null,
            "top": null,
            "visibility": null,
            "width": null
          }
        },
        "a358059ea4c54f99972be4da33010afc": {
          "model_module": "@jupyter-widgets/controls",
          "model_name": "VBoxModel",
          "model_module_version": "1.5.0",
          "state": {
            "_dom_classes": [
              "widget-interact"
            ],
            "_model_module": "@jupyter-widgets/controls",
            "_model_module_version": "1.5.0",
            "_model_name": "VBoxModel",
            "_view_count": null,
            "_view_module": "@jupyter-widgets/controls",
            "_view_module_version": "1.5.0",
            "_view_name": "VBoxView",
            "box_style": "",
            "children": [
              "IPY_MODEL_94fe733df1cb431e81fd128dcd7bc77e",
              "IPY_MODEL_bbffbd1e10e24dd188ecf22399d22755",
              "IPY_MODEL_9409a5d649914d8986269bde607f37e8"
            ],
            "layout": "IPY_MODEL_4b3679d25f3a40339fc48cc4c791c6df"
          }
        },
        "94fe733df1cb431e81fd128dcd7bc77e": {
          "model_module": "@jupyter-widgets/controls",
          "model_name": "FloatSliderModel",
          "model_module_version": "1.5.0",
          "state": {
            "_dom_classes": [],
            "_model_module": "@jupyter-widgets/controls",
            "_model_module_version": "1.5.0",
            "_model_name": "FloatSliderModel",
            "_view_count": null,
            "_view_module": "@jupyter-widgets/controls",
            "_view_module_version": "1.5.0",
            "_view_name": "FloatSliderView",
            "continuous_update": false,
            "description": "eta",
            "description_tooltip": null,
            "disabled": false,
            "layout": "IPY_MODEL_9893a33fb0704778b8016ca08c0790ac",
            "max": 200,
            "min": 1,
            "orientation": "horizontal",
            "readout": true,
            "readout_format": ".1f",
            "step": 1,
            "style": "IPY_MODEL_b8540d8a7a254f90b8409300ec6b0ea6",
            "value": 79
          }
        },
        "bbffbd1e10e24dd188ecf22399d22755": {
          "model_module": "@jupyter-widgets/controls",
          "model_name": "FloatLogSliderModel",
          "model_module_version": "1.5.0",
          "state": {
            "_dom_classes": [],
            "_model_module": "@jupyter-widgets/controls",
            "_model_module_version": "1.5.0",
            "_model_name": "FloatLogSliderModel",
            "_view_count": null,
            "_view_module": "@jupyter-widgets/controls",
            "_view_module_version": "1.5.0",
            "_view_name": "FloatLogSliderView",
            "base": 10,
            "continuous_update": false,
            "description": "gamma",
            "description_tooltip": null,
            "disabled": false,
            "layout": "IPY_MODEL_d90afe62672443e4ad0aeda2dd2c44b2",
            "max": 1,
            "min": -15,
            "orientation": "horizontal",
            "readout": true,
            "readout_format": ".3g",
            "step": 1,
            "style": "IPY_MODEL_4bf101a002464cf2b9bf083733a0e188",
            "value": 10
          }
        },
        "9409a5d649914d8986269bde607f37e8": {
          "model_module": "@jupyter-widgets/output",
          "model_name": "OutputModel",
          "model_module_version": "1.0.0",
          "state": {
            "_dom_classes": [],
            "_model_module": "@jupyter-widgets/output",
            "_model_module_version": "1.0.0",
            "_model_name": "OutputModel",
            "_view_count": null,
            "_view_module": "@jupyter-widgets/output",
            "_view_module_version": "1.0.0",
            "_view_name": "OutputView",
            "layout": "IPY_MODEL_c69cf4ac25f4482d8dbf0dd7577dcefe",
            "msg_id": "",
            "outputs": [
              {
                "output_type": "display_data",
                "data": {
                  "text/plain": "<Figure size 1000x500 with 1 Axes>",
                  "image/png": "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\n"
                },
                "metadata": {
                  "image/png": {
                    "width": 975,
                    "height": 475
                  }
                }
              }
            ]
          }
        },
        "4b3679d25f3a40339fc48cc4c791c6df": {
          "model_module": "@jupyter-widgets/base",
          "model_name": "LayoutModel",
          "model_module_version": "1.2.0",
          "state": {
            "_model_module": "@jupyter-widgets/base",
            "_model_module_version": "1.2.0",
            "_model_name": "LayoutModel",
            "_view_count": null,
            "_view_module": "@jupyter-widgets/base",
            "_view_module_version": "1.2.0",
            "_view_name": "LayoutView",
            "align_content": null,
            "align_items": null,
            "align_self": null,
            "border": null,
            "bottom": null,
            "display": null,
            "flex": null,
            "flex_flow": null,
            "grid_area": null,
            "grid_auto_columns": null,
            "grid_auto_flow": null,
            "grid_auto_rows": null,
            "grid_column": null,
            "grid_gap": null,
            "grid_row": null,
            "grid_template_areas": null,
            "grid_template_columns": null,
            "grid_template_rows": null,
            "height": null,
            "justify_content": null,
            "justify_items": null,
            "left": null,
            "margin": null,
            "max_height": null,
            "max_width": null,
            "min_height": null,
            "min_width": null,
            "object_fit": null,
            "object_position": null,
            "order": null,
            "overflow": null,
            "overflow_x": null,
            "overflow_y": null,
            "padding": null,
            "right": null,
            "top": null,
            "visibility": null,
            "width": null
          }
        },
        "9893a33fb0704778b8016ca08c0790ac": {
          "model_module": "@jupyter-widgets/base",
          "model_name": "LayoutModel",
          "model_module_version": "1.2.0",
          "state": {
            "_model_module": "@jupyter-widgets/base",
            "_model_module_version": "1.2.0",
            "_model_name": "LayoutModel",
            "_view_count": null,
            "_view_module": "@jupyter-widgets/base",
            "_view_module_version": "1.2.0",
            "_view_name": "LayoutView",
            "align_content": null,
            "align_items": null,
            "align_self": null,
            "border": null,
            "bottom": null,
            "display": null,
            "flex": null,
            "flex_flow": null,
            "grid_area": null,
            "grid_auto_columns": null,
            "grid_auto_flow": null,
            "grid_auto_rows": null,
            "grid_column": null,
            "grid_gap": null,
            "grid_row": null,
            "grid_template_areas": null,
            "grid_template_columns": null,
            "grid_template_rows": null,
            "height": null,
            "justify_content": null,
            "justify_items": null,
            "left": null,
            "margin": null,
            "max_height": null,
            "max_width": null,
            "min_height": null,
            "min_width": null,
            "object_fit": null,
            "object_position": null,
            "order": null,
            "overflow": null,
            "overflow_x": null,
            "overflow_y": null,
            "padding": null,
            "right": null,
            "top": null,
            "visibility": null,
            "width": null
          }
        },
        "b8540d8a7a254f90b8409300ec6b0ea6": {
          "model_module": "@jupyter-widgets/controls",
          "model_name": "SliderStyleModel",
          "model_module_version": "1.5.0",
          "state": {
            "_model_module": "@jupyter-widgets/controls",
            "_model_module_version": "1.5.0",
            "_model_name": "SliderStyleModel",
            "_view_count": null,
            "_view_module": "@jupyter-widgets/base",
            "_view_module_version": "1.2.0",
            "_view_name": "StyleView",
            "description_width": "",
            "handle_color": null
          }
        },
        "d90afe62672443e4ad0aeda2dd2c44b2": {
          "model_module": "@jupyter-widgets/base",
          "model_name": "LayoutModel",
          "model_module_version": "1.2.0",
          "state": {
            "_model_module": "@jupyter-widgets/base",
            "_model_module_version": "1.2.0",
            "_model_name": "LayoutModel",
            "_view_count": null,
            "_view_module": "@jupyter-widgets/base",
            "_view_module_version": "1.2.0",
            "_view_name": "LayoutView",
            "align_content": null,
            "align_items": null,
            "align_self": null,
            "border": null,
            "bottom": null,
            "display": null,
            "flex": null,
            "flex_flow": null,
            "grid_area": null,
            "grid_auto_columns": null,
            "grid_auto_flow": null,
            "grid_auto_rows": null,
            "grid_column": null,
            "grid_gap": null,
            "grid_row": null,
            "grid_template_areas": null,
            "grid_template_columns": null,
            "grid_template_rows": null,
            "height": null,
            "justify_content": null,
            "justify_items": null,
            "left": null,
            "margin": null,
            "max_height": null,
            "max_width": null,
            "min_height": null,
            "min_width": null,
            "object_fit": null,
            "object_position": null,
            "order": null,
            "overflow": null,
            "overflow_x": null,
            "overflow_y": null,
            "padding": null,
            "right": null,
            "top": null,
            "visibility": null,
            "width": null
          }
        },
        "4bf101a002464cf2b9bf083733a0e188": {
          "model_module": "@jupyter-widgets/controls",
          "model_name": "SliderStyleModel",
          "model_module_version": "1.5.0",
          "state": {
            "_model_module": "@jupyter-widgets/controls",
            "_model_module_version": "1.5.0",
            "_model_name": "SliderStyleModel",
            "_view_count": null,
            "_view_module": "@jupyter-widgets/base",
            "_view_module_version": "1.2.0",
            "_view_name": "StyleView",
            "description_width": "",
            "handle_color": null
          }
        },
        "c69cf4ac25f4482d8dbf0dd7577dcefe": {
          "model_module": "@jupyter-widgets/base",
          "model_name": "LayoutModel",
          "model_module_version": "1.2.0",
          "state": {
            "_model_module": "@jupyter-widgets/base",
            "_model_module_version": "1.2.0",
            "_model_name": "LayoutModel",
            "_view_count": null,
            "_view_module": "@jupyter-widgets/base",
            "_view_module_version": "1.2.0",
            "_view_name": "LayoutView",
            "align_content": null,
            "align_items": null,
            "align_self": null,
            "border": null,
            "bottom": null,
            "display": null,
            "flex": null,
            "flex_flow": null,
            "grid_area": null,
            "grid_auto_columns": null,
            "grid_auto_flow": null,
            "grid_auto_rows": null,
            "grid_column": null,
            "grid_gap": null,
            "grid_row": null,
            "grid_template_areas": null,
            "grid_template_columns": null,
            "grid_template_rows": null,
            "height": null,
            "justify_content": null,
            "justify_items": null,
            "left": null,
            "margin": null,
            "max_height": null,
            "max_width": null,
            "min_height": null,
            "min_width": null,
            "object_fit": null,
            "object_position": null,
            "order": null,
            "overflow": null,
            "overflow_x": null,
            "overflow_y": null,
            "padding": null,
            "right": null,
            "top": null,
            "visibility": null,
            "width": null
          }
        },
        "327e09743cab490bbed50e09bf358f51": {
          "model_module": "@jupyter-widgets/controls",
          "model_name": "TabModel",
          "model_module_version": "1.5.0",
          "state": {
            "_dom_classes": [],
            "_model_module": "@jupyter-widgets/controls",
            "_model_module_version": "1.5.0",
            "_model_name": "TabModel",
            "_titles": {
              "0": "Youtube",
              "1": "Bilibili"
            },
            "_view_count": null,
            "_view_module": "@jupyter-widgets/controls",
            "_view_module_version": "1.5.0",
            "_view_name": "TabView",
            "box_style": "",
            "children": [
              "IPY_MODEL_a9ad89701ad34e5297612dfc4e31c5e1",
              "IPY_MODEL_b27fa26b1c6f40039270a214b72d64e1"
            ],
            "layout": "IPY_MODEL_4ac4e1bea4fa4a83b0e1018bf7857200",
            "selected_index": 0
          }
        },
        "a9ad89701ad34e5297612dfc4e31c5e1": {
          "model_module": "@jupyter-widgets/output",
          "model_name": "OutputModel",
          "model_module_version": "1.0.0",
          "state": {
            "_dom_classes": [],
            "_model_module": "@jupyter-widgets/output",
            "_model_module_version": "1.0.0",
            "_model_name": "OutputModel",
            "_view_count": null,
            "_view_module": "@jupyter-widgets/output",
            "_view_module_version": "1.0.0",
            "_view_name": "OutputView",
            "layout": "IPY_MODEL_c7ab96c5fe804160b1837960b692e220",
            "msg_id": "",
            "outputs": [
              {
                "output_type": "stream",
                "name": "stdout",
                "text": [
                  "Video available at https://youtube.com/watch?v=18oNWRziskM\n"
                ]
              },
              {
                "output_type": "display_data",
                "data": {
                  "text/plain": "<IPython.lib.display.YouTubeVideo at 0x7e9074390a90>",
                  "text/html": "\n        <iframe\n            width=\"854\"\n            height=\"480\"\n            src=\"https://www.youtube.com/embed/18oNWRziskM?fs=1&rel=0\"\n            frameborder=\"0\"\n            allowfullscreen\n            \n        ></iframe>\n        ",
                  "image/jpeg": "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\n"
                },
                "metadata": {}
              }
            ]
          }
        },
        "b27fa26b1c6f40039270a214b72d64e1": {
          "model_module": "@jupyter-widgets/output",
          "model_name": "OutputModel",
          "model_module_version": "1.0.0",
          "state": {
            "_dom_classes": [],
            "_model_module": "@jupyter-widgets/output",
            "_model_module_version": "1.0.0",
            "_model_name": "OutputModel",
            "_view_count": null,
            "_view_module": "@jupyter-widgets/output",
            "_view_module_version": "1.0.0",
            "_view_name": "OutputView",
            "layout": "IPY_MODEL_c0fbf5f00e0f42ca96b132efcb41b4e0",
            "msg_id": "",
            "outputs": [
              {
                "output_type": "stream",
                "name": "stdout",
                "text": [
                  "Video available at https://www.bilibili.com/video/BV1bw411R7DJ\n"
                ]
              },
              {
                "output_type": "display_data",
                "data": {
                  "text/plain": "<__main__.PlayVideo at 0x7e90740eba90>",
                  "text/html": "\n        <iframe\n            width=\"854\"\n            height=\"480\"\n            src=\"https://player.bilibili.com/player.html?bvid=BV1bw411R7DJ&page=1?fs=1&autoplay=False\"\n            frameborder=\"0\"\n            allowfullscreen\n            \n        ></iframe>\n        "
                },
                "metadata": {}
              }
            ]
          }
        },
        "4ac4e1bea4fa4a83b0e1018bf7857200": {
          "model_module": "@jupyter-widgets/base",
          "model_name": "LayoutModel",
          "model_module_version": "1.2.0",
          "state": {
            "_model_module": "@jupyter-widgets/base",
            "_model_module_version": "1.2.0",
            "_model_name": "LayoutModel",
            "_view_count": null,
            "_view_module": "@jupyter-widgets/base",
            "_view_module_version": "1.2.0",
            "_view_name": "LayoutView",
            "align_content": null,
            "align_items": null,
            "align_self": null,
            "border": null,
            "bottom": null,
            "display": null,
            "flex": null,
            "flex_flow": null,
            "grid_area": null,
            "grid_auto_columns": null,
            "grid_auto_flow": null,
            "grid_auto_rows": null,
            "grid_column": null,
            "grid_gap": null,
            "grid_row": null,
            "grid_template_areas": null,
            "grid_template_columns": null,
            "grid_template_rows": null,
            "height": null,
            "justify_content": null,
            "justify_items": null,
            "left": null,
            "margin": null,
            "max_height": null,
            "max_width": null,
            "min_height": null,
            "min_width": null,
            "object_fit": null,
            "object_position": null,
            "order": null,
            "overflow": null,
            "overflow_x": null,
            "overflow_y": null,
            "padding": null,
            "right": null,
            "top": null,
            "visibility": null,
            "width": null
          }
        },
        "c7ab96c5fe804160b1837960b692e220": {
          "model_module": "@jupyter-widgets/base",
          "model_name": "LayoutModel",
          "model_module_version": "1.2.0",
          "state": {
            "_model_module": "@jupyter-widgets/base",
            "_model_module_version": "1.2.0",
            "_model_name": "LayoutModel",
            "_view_count": null,
            "_view_module": "@jupyter-widgets/base",
            "_view_module_version": "1.2.0",
            "_view_name": "LayoutView",
            "align_content": null,
            "align_items": null,
            "align_self": null,
            "border": null,
            "bottom": null,
            "display": null,
            "flex": null,
            "flex_flow": null,
            "grid_area": null,
            "grid_auto_columns": null,
            "grid_auto_flow": null,
            "grid_auto_rows": null,
            "grid_column": null,
            "grid_gap": null,
            "grid_row": null,
            "grid_template_areas": null,
            "grid_template_columns": null,
            "grid_template_rows": null,
            "height": null,
            "justify_content": null,
            "justify_items": null,
            "left": null,
            "margin": null,
            "max_height": null,
            "max_width": null,
            "min_height": null,
            "min_width": null,
            "object_fit": null,
            "object_position": null,
            "order": null,
            "overflow": null,
            "overflow_x": null,
            "overflow_y": null,
            "padding": null,
            "right": null,
            "top": null,
            "visibility": null,
            "width": null
          }
        },
        "c0fbf5f00e0f42ca96b132efcb41b4e0": {
          "model_module": "@jupyter-widgets/base",
          "model_name": "LayoutModel",
          "model_module_version": "1.2.0",
          "state": {
            "_model_module": "@jupyter-widgets/base",
            "_model_module_version": "1.2.0",
            "_model_name": "LayoutModel",
            "_view_count": null,
            "_view_module": "@jupyter-widgets/base",
            "_view_module_version": "1.2.0",
            "_view_name": "LayoutView",
            "align_content": null,
            "align_items": null,
            "align_self": null,
            "border": null,
            "bottom": null,
            "display": null,
            "flex": null,
            "flex_flow": null,
            "grid_area": null,
            "grid_auto_columns": null,
            "grid_auto_flow": null,
            "grid_auto_rows": null,
            "grid_column": null,
            "grid_gap": null,
            "grid_row": null,
            "grid_template_areas": null,
            "grid_template_columns": null,
            "grid_template_rows": null,
            "height": null,
            "justify_content": null,
            "justify_items": null,
            "left": null,
            "margin": null,
            "max_height": null,
            "max_width": null,
            "min_height": null,
            "min_width": null,
            "object_fit": null,
            "object_position": null,
            "order": null,
            "overflow": null,
            "overflow_x": null,
            "overflow_y": null,
            "padding": null,
            "right": null,
            "top": null,
            "visibility": null,
            "width": null
          }
        }
      }
    }
  },
  "nbformat": 4,
  "nbformat_minor": 0
}